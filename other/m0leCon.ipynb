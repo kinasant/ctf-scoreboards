{
 "cells": [
  {
   "cell_type": "code",
   "execution_count": 1,
   "id": "4a949da5-33fd-42b6-aac7-188cc942a647",
   "metadata": {},
   "outputs": [],
   "source": [
    "from helium import *"
   ]
  },
  {
   "cell_type": "code",
   "execution_count": 25,
   "id": "5920c2c8-f97b-4787-bd1f-cc514639681d",
   "metadata": {},
   "outputs": [],
   "source": [
    "from time import sleep"
   ]
  },
  {
   "cell_type": "code",
   "execution_count": 37,
   "id": "982f4263-ea91-4f99-b032-2e190f4b691a",
   "metadata": {},
   "outputs": [],
   "source": [
    "from bs4 import BeautifulSoup"
   ]
  },
  {
   "cell_type": "code",
   "execution_count": 32,
   "id": "2ef310e5-28b8-4a9b-a39e-66adb4e147ab",
   "metadata": {},
   "outputs": [],
   "source": [
    "driver = start_chrome()"
   ]
  },
  {
   "cell_type": "code",
   "execution_count": 33,
   "id": "eca2ef37-c54e-4dc2-a904-28a8be79d424",
   "metadata": {},
   "outputs": [],
   "source": [
    "go_to(\"https://beginner.m0lecon.it/scoreboard\")\n",
    "sleep(5)"
   ]
  },
  {
   "cell_type": "code",
   "execution_count": 39,
   "id": "7da50deb-2bf6-429c-9855-d4bdb5c24db4",
   "metadata": {},
   "outputs": [],
   "source": [
    "elem = driver.find_element(\"xpath\", \"//table\")"
   ]
  },
  {
   "cell_type": "code",
   "execution_count": 42,
   "id": "cd9dc3f0-01f9-4e15-9de4-284b27aaee5b",
   "metadata": {},
   "outputs": [],
   "source": [
    "source_code = elem.get_attribute(\"outerHTML\")"
   ]
  },
  {
   "cell_type": "code",
   "execution_count": 43,
   "id": "deb56796-3f1c-4e5f-b739-04378b924d61",
   "metadata": {},
   "outputs": [],
   "source": [
    "soup = BeautifulSoup(source_code,'html.parser')"
   ]
  },
  {
   "cell_type": "code",
   "execution_count": 85,
   "id": "f213bac9-0535-4baf-a1c9-4bbb4c698338",
   "metadata": {},
   "outputs": [
    {
     "data": {
      "text/plain": [
       "[<th class=\"text-center\" width=\"5%\">#</th>,\n",
       " <th class=\"text-center\" width=\"5%\">Country</th>,\n",
       " <th class=\"text-center\" width=\"10%\">Team</th>,\n",
       " <th class=\"text-center\" width=\"10%\">Score</th>,\n",
       " <th scope=\"col\" title=\"Sanity Check\">50</th>,\n",
       " <th scope=\"col\" title=\"pickle soup\">66</th>,\n",
       " <th scope=\"col\" title=\"Strange noise\">96</th>,\n",
       " <th scope=\"col\" title=\"A car hacker's first steps\">144</th>,\n",
       " <th scope=\"col\" title=\"KIRBY'S FLAG\">50</th>,\n",
       " <th scope=\"col\" title=\"XORed picture\">74</th>,\n",
       " <th scope=\"col\" title=\"PIETcture\">222</th>,\n",
       " <th scope=\"col\" title=\"Small RSA\">244</th>,\n",
       " <th scope=\"col\" title=\"datadestroyer9000\">303</th>,\n",
       " <th scope=\"col\" title=\"Identity Theft\">303</th>,\n",
       " <th scope=\"col\" title=\"SmallAuth\">286</th>,\n",
       " <th scope=\"col\" title=\"Susculator\">92</th>,\n",
       " <th scope=\"col\" title=\"DroidCryptor\">144</th>,\n",
       " <th scope=\"col\" title=\"Magical Advisor\">244</th>,\n",
       " <th scope=\"col\" title=\"GoRevIt\">500</th>,\n",
       " <th scope=\"col\" title=\"Hypwn\">394</th>,\n",
       " <th scope=\"col\" title=\"Locked Door\">50</th>,\n",
       " <th scope=\"col\" title=\"GoSecureIt\">50</th>,\n",
       " <th scope=\"col\" title=\"Cookie Shop\">50</th>,\n",
       " <th scope=\"col\" title=\"ImgPlace\">232</th>]"
      ]
     },
     "execution_count": 85,
     "metadata": {},
     "output_type": "execute_result"
    }
   ],
   "source": [
    "soup.find('thead').find_all('tr')[1].find_all('th')"
   ]
  },
  {
   "cell_type": "code",
   "execution_count": 80,
   "id": "8e75efc2-cfcf-4210-b037-fea8422b2b18",
   "metadata": {},
   "outputs": [
    {
     "data": {
      "text/plain": [
       "[<td class=\"border-left-0\" colspan=\"4\"></td>,\n",
       " <td class=\"text-center\" colspan=\"7\"><div class=\"w-100 custom-badge badge-pill badge challenge-tag translucent-light badge-misc\">misc</div></td>,\n",
       " <td class=\"text-center\" colspan=\"4\"><div class=\"w-100 custom-badge badge-pill badge challenge-tag translucent-light badge-crypto\">crypto</div></td>,\n",
       " <td class=\"text-center\" colspan=\"4\"><div class=\"w-100 custom-badge badge-pill badge challenge-tag translucent-light badge-reverse\">reverse</div></td>,\n",
       " <td class=\"text-center\" colspan=\"1\"><div class=\"w-100 custom-badge badge-pill badge challenge-tag translucent-light badge-pwn\">pwn</div></td>,\n",
       " <td class=\"text-center\" colspan=\"4\"><div class=\"w-100 custom-badge badge-pill badge challenge-tag translucent-light badge-web\">web</div></td>]"
      ]
     },
     "execution_count": 80,
     "metadata": {},
     "output_type": "execute_result"
    }
   ],
   "source": [
    "soup.find('thead').find_all('tr')[0].find_all('td')"
   ]
  },
  {
   "cell_type": "code",
   "execution_count": 139,
   "id": "5b3c8be0-b757-4750-9618-3e39004007d0",
   "metadata": {},
   "outputs": [],
   "source": [
    "category= [i.text for i in soup.find('thead').find_all('tr')[0].find_all('td')[1:]]"
   ]
  },
  {
   "cell_type": "code",
   "execution_count": 140,
   "id": "a4cf9a84-6f27-42c2-81f8-66c8b19eee2a",
   "metadata": {},
   "outputs": [
    {
     "data": {
      "text/plain": [
       "['misc', 'crypto', 'reverse', 'pwn', 'web']"
      ]
     },
     "execution_count": 140,
     "metadata": {},
     "output_type": "execute_result"
    }
   ],
   "source": [
    "category"
   ]
  },
  {
   "cell_type": "code",
   "execution_count": 81,
   "id": "df739570-f71f-4cf2-8488-762301bb6f85",
   "metadata": {},
   "outputs": [],
   "source": [
    "c1= [i.get('colspan') for i in soup.find('thead').find_all('tr')[0].find_all('td')[1:]]"
   ]
  },
  {
   "cell_type": "code",
   "execution_count": 82,
   "id": "30ec485d-4a5b-4b04-ba51-c65b6f8a1c25",
   "metadata": {},
   "outputs": [
    {
     "data": {
      "text/plain": [
       "['7', '4', '4', '1', '4']"
      ]
     },
     "execution_count": 82,
     "metadata": {},
     "output_type": "execute_result"
    }
   ],
   "source": [
    "c1"
   ]
  },
  {
   "cell_type": "code",
   "execution_count": 90,
   "id": "9a8449bb-17d1-42c8-87da-70fe2a2ca422",
   "metadata": {},
   "outputs": [],
   "source": [
    "points = [i.text for i in soup.find('thead').find_all('tr')[1].find_all('th') if i.get('scope') == 'col']"
   ]
  },
  {
   "cell_type": "code",
   "execution_count": 91,
   "id": "e25c546b-f26c-4859-824b-74a36b9c9cdd",
   "metadata": {},
   "outputs": [],
   "source": [
    "challenge = [i.get('title') for i in soup.find('thead').find_all('tr')[1].find_all('th') if i.get('scope') == 'col']"
   ]
  },
  {
   "cell_type": "code",
   "execution_count": 163,
   "id": "36f362b2-3b9d-4e77-883f-2d78f0b4e5a5",
   "metadata": {},
   "outputs": [],
   "source": [
    "position = []\n",
    "name=  []\n",
    "team_points =[]\n",
    "challenges = []"
   ]
  },
  {
   "cell_type": "code",
   "execution_count": 164,
   "id": "f2e49eaa-81cb-4eac-bb96-674de9e7a1e2",
   "metadata": {},
   "outputs": [],
   "source": [
    "go_to(\"https://beginner.m0lecon.it/scoreboard\")\n",
    "sleep(5)"
   ]
  },
  {
   "cell_type": "code",
   "execution_count": 165,
   "id": "8150097d-2737-4f75-9159-1e7eeb1dd267",
   "metadata": {},
   "outputs": [],
   "source": [
    "for i in range(1,9):\n",
    " click(str(i))\n",
    " sleep(5)\n",
    " elem = driver.find_element(\"xpath\", \"//table\")\n",
    " source_code = elem.get_attribute(\"outerHTML\")\n",
    " soup = BeautifulSoup(source_code,'html.parser')\n",
    " for k in soup.find('tbody').find_all('tr'):\n",
    "    challenge_name =[]\n",
    "    challenge_points= []\n",
    "    challenge_category=[]\n",
    "    solve_time= []\n",
    "    s = k.find_all('td')\n",
    "    position.append(s[0].text)\n",
    "    name.append(s[2].text)\n",
    "    team_points.append(s[3].text)\n",
    "    c=0\n",
    "    for cnt,i in enumerate(c1):\n",
    "        for l1 in range(int(i)):\n",
    "            if s[c+4].text:\n",
    "                challenge_name.append(challenge[c])\n",
    "                challenge_points.append(points[c])\n",
    "                challenge_category.append(category[cnt])\n",
    "                solve_time.append(s[c+4].text)\n",
    "            c+=1\n",
    "    s = {'challenge_name': challenge_name,'challenge_category': challenge_category,'challenge_points': challenge_points,'solve_time': solve_time}\n",
    "    challenges.append(s)"
   ]
  },
  {
   "cell_type": "code",
   "execution_count": 169,
   "id": "6745d86b-d68e-4572-b965-95fb626281e3",
   "metadata": {},
   "outputs": [],
   "source": [
    "import pandas as pd"
   ]
  },
  {
   "cell_type": "code",
   "execution_count": 170,
   "id": "21b1dd3d-9395-4484-b16a-ad18ee725495",
   "metadata": {},
   "outputs": [],
   "source": [
    "df = pd.DataFrame()"
   ]
  },
  {
   "cell_type": "code",
   "execution_count": 171,
   "id": "b8ee116b-3002-4534-8008-a06917002c37",
   "metadata": {},
   "outputs": [],
   "source": [
    "df[\"Position\"] = position\n",
    "df['name'] = name\n",
    "df['points'] = team_points\n",
    "df[\"challenge\"] = challenges"
   ]
  },
  {
   "cell_type": "code",
   "execution_count": 173,
   "id": "e97c9f1b-d9e5-48cb-ab60-5aec085e3e02",
   "metadata": {},
   "outputs": [],
   "source": [
    "df.to_csv('m0leCon.csv',index = False)"
   ]
  },
  {
   "cell_type": "code",
   "execution_count": 174,
   "id": "28e9c1f2-0665-4c93-bf18-9915e4ead608",
   "metadata": {},
   "outputs": [],
   "source": [
    "kill_browser()"
   ]
  }
 ],
 "metadata": {
  "kernelspec": {
   "display_name": "Python 3 (ipykernel)",
   "language": "python",
   "name": "python3"
  },
  "language_info": {
   "codemirror_mode": {
    "name": "ipython",
    "version": 3
   },
   "file_extension": ".py",
   "mimetype": "text/x-python",
   "name": "python",
   "nbconvert_exporter": "python",
   "pygments_lexer": "ipython3",
   "version": "3.11.7"
  }
 },
 "nbformat": 4,
 "nbformat_minor": 5
}
