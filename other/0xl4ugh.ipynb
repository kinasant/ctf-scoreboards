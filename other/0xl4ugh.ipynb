{
 "cells": [
  {
   "cell_type": "code",
   "execution_count": 1,
   "id": "bd5202f1-617b-4a8a-aba1-5c6d78735214",
   "metadata": {},
   "outputs": [],
   "source": [
    "from helium import *"
   ]
  },
  {
   "cell_type": "code",
   "execution_count": 2,
   "id": "14c7f879-827d-42d2-9a89-b72b7fa05f18",
   "metadata": {},
   "outputs": [],
   "source": [
    "from bs4 import BeautifulSoup"
   ]
  },
  {
   "cell_type": "code",
   "execution_count": 3,
   "id": "2d490097-cadf-4e5d-be21-726f78dab427",
   "metadata": {},
   "outputs": [],
   "source": [
    "import pandas as pd"
   ]
  },
  {
   "cell_type": "code",
   "execution_count": 55,
   "id": "ba6f3ce8-1722-4d41-a400-5a99c07189fc",
   "metadata": {},
   "outputs": [],
   "source": [
    "from time import sleep"
   ]
  },
  {
   "cell_type": "code",
   "execution_count": 107,
   "id": "acca76d4-819c-41e3-9adf-c80b5a063ded",
   "metadata": {},
   "outputs": [],
   "source": [
    "driver = start_chrome()"
   ]
  },
  {
   "cell_type": "code",
   "execution_count": 115,
   "id": "b3678d4a-bf58-4e38-b25d-45be45fb3e39",
   "metadata": {},
   "outputs": [],
   "source": [
    "go_to('https://0xl4ugh.ctf.ae/login')"
   ]
  },
  {
   "cell_type": "code",
   "execution_count": 116,
   "id": "98401117-877f-4d1c-a8a8-f3f267292462",
   "metadata": {},
   "outputs": [],
   "source": [
    "username = '{REDACTED}'\n",
    "password = '{I_didnt_leave_the_password_here_this_time}'"
   ]
  },
  {
   "cell_type": "code",
   "execution_count": 117,
   "id": "f1673177-ba07-4e1e-abc9-aec55db96140",
   "metadata": {},
   "outputs": [],
   "source": [
    "write(username,into='Email or Username')\n",
    "write(password,into='Password')"
   ]
  },
  {
   "cell_type": "code",
   "execution_count": 118,
   "id": "fe9c4ff5-4b26-4edd-8445-a7dd6d621650",
   "metadata": {},
   "outputs": [],
   "source": [
    "click('Sign in')"
   ]
  },
  {
   "cell_type": "code",
   "execution_count": 119,
   "id": "82ded775-2c3b-45c7-8079-17acf71c5f5e",
   "metadata": {},
   "outputs": [],
   "source": [
    "click('Leaderboard')"
   ]
  },
  {
   "cell_type": "code",
   "execution_count": 13,
   "id": "75b86e76-5edb-4610-a571-c8251c494ff9",
   "metadata": {},
   "outputs": [],
   "source": [
    "soup = BeautifulSoup(driver.page_source,'html.parser')"
   ]
  },
  {
   "cell_type": "code",
   "execution_count": 15,
   "id": "38989f45-3ff5-4a4d-87a7-d3941ca15317",
   "metadata": {
    "scrolled": true
   },
   "outputs": [],
   "source": [
    "table =soup.find('table')"
   ]
  },
  {
   "cell_type": "code",
   "execution_count": 37,
   "id": "39e69f81-66f1-4eb8-afb7-cbda05955731",
   "metadata": {},
   "outputs": [],
   "source": [
    "position = []\n",
    "name = []\n",
    "team = []\n",
    "points = []\n",
    "for i in table.find('tbody').find_all('tr'):\n",
    "    position.append(i.find('th').text)\n",
    "    team.append(i.find('a').get('href'))\n",
    "    points.append(i.find('td').text)\n",
    "    name.append(i.find('a').text)"
   ]
  },
  {
   "cell_type": "code",
   "execution_count": 120,
   "id": "e13730a3-2de0-41f6-a45e-2ea4582a51d0",
   "metadata": {},
   "outputs": [],
   "source": [
    "def parse_team(i):\n",
    "    go_to(url+i+'/users')\n",
    "    sleep(7)\n",
    "    soup = BeautifulSoup(driver.page_source,'html.parser')\n",
    "    table =soup.find('table')\n",
    "    challenge_name = []\n",
    "    challenge_category = []\n",
    "    challenge_points= []\n",
    "    solve_time= []\n",
    "    for j in table.find('tbody').find_all('tr'):\n",
    "        l= j.find_all('td')\n",
    "        challenge_name.append(j.find('th').text)\n",
    "        challenge_category.append(l[1].text)\n",
    "        challenge_points.append(l[-1].text)\n",
    "        solve_time.append(l[3].text)\n",
    "    s = {'challenge_name': challenge_name,'challenge_category': challenge_category,'challenge_points': challenge_points,'solve_time': solve_time}\n",
    "    return s"
   ]
  },
  {
   "cell_type": "code",
   "execution_count": 121,
   "id": "0d5601f4-fec8-48c7-bcc6-5799ef71f151",
   "metadata": {},
   "outputs": [
    {
     "ename": "AttributeError",
     "evalue": "'NoneType' object has no attribute 'find'",
     "output_type": "error",
     "traceback": [
      "\u001b[1;31m---------------------------------------------------------------------------\u001b[0m",
      "\u001b[1;31mAttributeError\u001b[0m                            Traceback (most recent call last)",
      "Cell \u001b[1;32mIn[121], line 3\u001b[0m\n\u001b[0;32m      1\u001b[0m challenges \u001b[38;5;241m=\u001b[39m[]\n\u001b[0;32m      2\u001b[0m \u001b[38;5;28;01mfor\u001b[39;00m i \u001b[38;5;129;01min\u001b[39;00m team:\n\u001b[1;32m----> 3\u001b[0m     challenges\u001b[38;5;241m.\u001b[39mappend(\u001b[43mparse_team\u001b[49m\u001b[43m(\u001b[49m\u001b[43mi\u001b[49m\u001b[43m)\u001b[49m)\n",
      "Cell \u001b[1;32mIn[120], line 10\u001b[0m, in \u001b[0;36mparse_team\u001b[1;34m(i)\u001b[0m\n\u001b[0;32m      8\u001b[0m challenge_points\u001b[38;5;241m=\u001b[39m []\n\u001b[0;32m      9\u001b[0m solve_time\u001b[38;5;241m=\u001b[39m []\n\u001b[1;32m---> 10\u001b[0m \u001b[38;5;28;01mfor\u001b[39;00m j \u001b[38;5;129;01min\u001b[39;00m \u001b[43mtable\u001b[49m\u001b[38;5;241;43m.\u001b[39;49m\u001b[43mfind\u001b[49m(\u001b[38;5;124m'\u001b[39m\u001b[38;5;124mtbody\u001b[39m\u001b[38;5;124m'\u001b[39m)\u001b[38;5;241m.\u001b[39mfind_all(\u001b[38;5;124m'\u001b[39m\u001b[38;5;124mtr\u001b[39m\u001b[38;5;124m'\u001b[39m):\n\u001b[0;32m     11\u001b[0m     l\u001b[38;5;241m=\u001b[39m j\u001b[38;5;241m.\u001b[39mfind_all(\u001b[38;5;124m'\u001b[39m\u001b[38;5;124mtd\u001b[39m\u001b[38;5;124m'\u001b[39m)\n\u001b[0;32m     12\u001b[0m     challenge_name\u001b[38;5;241m.\u001b[39mappend(j\u001b[38;5;241m.\u001b[39mfind(\u001b[38;5;124m'\u001b[39m\u001b[38;5;124mth\u001b[39m\u001b[38;5;124m'\u001b[39m)\u001b[38;5;241m.\u001b[39mtext)\n",
      "\u001b[1;31mAttributeError\u001b[0m: 'NoneType' object has no attribute 'find'"
     ]
    }
   ],
   "source": [
    "challenges =[]\n",
    "for i in team:\n",
    "    challenges.append(parse_team(i))"
   ]
  },
  {
   "cell_type": "code",
   "execution_count": 133,
   "id": "800f15e5-4636-464c-bdb8-9357331f1c55",
   "metadata": {},
   "outputs": [],
   "source": [
    "kill_browser()"
   ]
  },
  {
   "cell_type": "code",
   "execution_count": null,
   "id": "4c7f6a83-d717-4201-8f20-ac6df6a64c0b",
   "metadata": {},
   "outputs": [],
   "source": [
    "df = pd.DataFrame()\n",
    "df[\"Position\"] = position\n",
    "df['name'] = name\n",
    "df['points'] = team_points\n",
    "df[\"challenge\"] = challenges"
   ]
  },
  {
   "cell_type": "code",
   "execution_count": null,
   "id": "4f40e6fc-9083-4d53-aec4-a55a23a2f742",
   "metadata": {},
   "outputs": [],
   "source": [
    "df.to_csv('0xL4ugh.csv',index=False)"
   ]
  }
 ],
 "metadata": {
  "kernelspec": {
   "display_name": "Python 3 (ipykernel)",
   "language": "python",
   "name": "python3"
  },
  "language_info": {
   "codemirror_mode": {
    "name": "ipython",
    "version": 3
   },
   "file_extension": ".py",
   "mimetype": "text/x-python",
   "name": "python",
   "nbconvert_exporter": "python",
   "pygments_lexer": "ipython3",
   "version": "3.11.7"
  }
 },
 "nbformat": 4,
 "nbformat_minor": 5
}
