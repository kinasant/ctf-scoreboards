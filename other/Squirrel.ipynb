{
 "cells": [
  {
   "cell_type": "code",
   "execution_count": 1,
   "id": "320c630e-2405-4f64-b083-1a203573a654",
   "metadata": {},
   "outputs": [],
   "source": [
    "from bs4 import BeautifulSoup"
   ]
  },
  {
   "cell_type": "code",
   "execution_count": 2,
   "id": "2f784305-3744-48b6-97ea-6e6f6a0d017b",
   "metadata": {},
   "outputs": [],
   "source": [
    "import pandas as pd"
   ]
  },
  {
   "cell_type": "code",
   "execution_count": 3,
   "id": "1941b29d-1d09-4d4b-9461-601c9de7fcea",
   "metadata": {},
   "outputs": [],
   "source": [
    "from time import sleep"
   ]
  },
  {
   "cell_type": "code",
   "execution_count": 4,
   "id": "4f1b08d3-776e-446a-8465-b8db8d485687",
   "metadata": {},
   "outputs": [],
   "source": [
    "from helium import *"
   ]
  },
  {
   "cell_type": "code",
   "execution_count": 5,
   "id": "f337d706-e72a-4a04-8de5-ef2c1e9e2899",
   "metadata": {},
   "outputs": [],
   "source": [
    "from seleniumbase import Driver"
   ]
  },
  {
   "cell_type": "code",
   "execution_count": 6,
   "id": "2d71d465-4d83-40d0-9cc4-a97304b376d2",
   "metadata": {},
   "outputs": [],
   "source": [
    "driver = Driver(uc = True)"
   ]
  },
  {
   "cell_type": "code",
   "execution_count": 7,
   "id": "80c81b23-71be-48d3-b54d-88227cdf7e82",
   "metadata": {},
   "outputs": [],
   "source": [
    "set_driver(driver)"
   ]
  },
  {
   "cell_type": "code",
   "execution_count": 8,
   "id": "94fad775-7485-4205-ba0b-1d43470f1147",
   "metadata": {},
   "outputs": [],
   "source": [
    "go_to(\"https://ctf.squ1rrel.dev/scoreboard\")"
   ]
  },
  {
   "cell_type": "code",
   "execution_count": 12,
   "id": "169d8ffc-4165-4dfa-a2b7-43a7ba3644d7",
   "metadata": {},
   "outputs": [],
   "source": [
    "soup = BeautifulSoup(driver.page_source,'lxml')"
   ]
  },
  {
   "cell_type": "code",
   "execution_count": null,
   "id": "49c66079-5675-4385-ae41-8f02a4483217",
   "metadata": {},
   "outputs": [],
   "source": [
    "script = soup.find_all('div',class_= \"table-row group\")"
   ]
  },
  {
   "cell_type": "code",
   "execution_count": 70,
   "id": "1739ffb9-87f4-48f6-93f6-cbb59684d2cb",
   "metadata": {},
   "outputs": [],
   "source": [
    "team = []\n",
    "name = []\n",
    "score = []\n",
    "for i in range(1,8):\n",
    "    click(str(i))\n",
    "    sleep(4)\n",
    "    soup = BeautifulSoup(driver.page_source,'lxml')\n",
    "    script = soup.find_all('div',class_= \"table-row group\")\n",
    "    team += [i.a.get('href') for i in script]\n",
    "    name += [i.a.text for i in script]\n",
    "    score += [i.p.text.split(' ')[0] for i in script]"
   ]
  },
  {
   "cell_type": "code",
   "execution_count": 79,
   "id": "de97d9bb-0cb3-42c7-8fe6-fc3e4181a310",
   "metadata": {},
   "outputs": [],
   "source": [
    "url = \"https://ctf.squ1rrel.dev\""
   ]
  },
  {
   "cell_type": "code",
   "execution_count": 80,
   "id": "4e37574a-9c06-46d7-a9dd-4ec5cfaaf1a0",
   "metadata": {},
   "outputs": [],
   "source": [
    "go_to(url+team[0])"
   ]
  },
  {
   "cell_type": "code",
   "execution_count": 81,
   "id": "dc050458-bdf3-45f8-860f-d4ad58acb638",
   "metadata": {},
   "outputs": [],
   "source": [
    "soup = BeautifulSoup(driver.page_source,'lxml')"
   ]
  },
  {
   "cell_type": "code",
   "execution_count": 88,
   "id": "67902241-8899-44f9-8fdb-45350e7c26be",
   "metadata": {},
   "outputs": [],
   "source": [
    "table = soup.find_all('div',class_= \"table-row\")"
   ]
  },
  {
   "cell_type": "code",
   "execution_count": 187,
   "id": "5a31372f-6f2b-4fc2-aee3-daf209874f73",
   "metadata": {},
   "outputs": [],
   "source": [
    "def parse_team():\n",
    "    category = []\n",
    "    chall = []\n",
    "    solve_time = []\n",
    "    points =[]\n",
    "    soup = BeautifulSoup(driver.page_source,'html.parser')\n",
    "    table = soup.find_all('div',class_= \"table-row\")\n",
    "    for i in table[1:]:\n",
    "        row = i.find_all('div')\n",
    "        chall.append(row[0].span.previous)\n",
    "        category.append(row[0].span.text)\n",
    "        solve_time.append(row[1].text)\n",
    "        points.append(row[2].text)\n",
    "    s = {'challenge_name': chall,'challenge_category': category,'challenge_points': points,'solve_time':solve_time}\n",
    "    return s"
   ]
  },
  {
   "cell_type": "code",
   "execution_count": 189,
   "id": "92bd86b4-03b8-452a-940d-a475fec357c7",
   "metadata": {},
   "outputs": [],
   "source": [
    "challenges = []"
   ]
  },
  {
   "cell_type": "code",
   "execution_count": 190,
   "id": "b1fc0b70-ec44-45b1-bc5e-fb1e395ce207",
   "metadata": {},
   "outputs": [],
   "source": [
    "for i in team:\n",
    "    try:\n",
    "        go_to(url+i)\n",
    "        sleep(0.5)\n",
    "        challenges.append(parse_team())\n",
    "    except:\n",
    "        go_to(url+i)\n",
    "        sleep(1)\n",
    "        challenges.append(parse_team())"
   ]
  },
  {
   "cell_type": "code",
   "execution_count": 192,
   "id": "ae307208-83c6-45a3-9cbb-23e470fbab9c",
   "metadata": {},
   "outputs": [],
   "source": [
    "df = pd.DataFrame()"
   ]
  },
  {
   "cell_type": "code",
   "execution_count": 193,
   "id": "65c5da6d-ff97-4588-a9de-b74fdda089e3",
   "metadata": {},
   "outputs": [],
   "source": [
    "df['name'] = name\n",
    "df['points'] = score\n",
    "df[\"challenge\"] = challenges"
   ]
  },
  {
   "cell_type": "code",
   "execution_count": 194,
   "id": "142ac895-98e3-4c50-a0fd-17fc25e9197f",
   "metadata": {},
   "outputs": [],
   "source": [
    "df.to_csv('squirrel.csv',index= False)"
   ]
  },
  {
   "cell_type": "code",
   "execution_count": 195,
   "id": "bb97eb3d-80f1-4490-bb23-21a4f3322def",
   "metadata": {},
   "outputs": [],
   "source": [
    "kill_browser()"
   ]
  }
 ],
 "metadata": {
  "kernelspec": {
   "display_name": "Python 3 (ipykernel)",
   "language": "python",
   "name": "python3"
  },
  "language_info": {
   "codemirror_mode": {
    "name": "ipython",
    "version": 3
   },
   "file_extension": ".py",
   "mimetype": "text/x-python",
   "name": "python",
   "nbconvert_exporter": "python",
   "pygments_lexer": "ipython3",
   "version": "3.11.7"
  }
 },
 "nbformat": 4,
 "nbformat_minor": 5
}
