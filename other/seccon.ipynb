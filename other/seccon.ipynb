{
 "cells": [
  {
   "cell_type": "code",
   "execution_count": 1,
   "id": "e9edca5b-8be7-422a-8b74-0d8233f12a9f",
   "metadata": {},
   "outputs": [],
   "source": [
    "from helium import *"
   ]
  },
  {
   "cell_type": "code",
   "execution_count": 74,
   "id": "8c72d15d-6b98-40e4-b18c-76c35a00ca1c",
   "metadata": {},
   "outputs": [],
   "source": [
    "from time import sleep"
   ]
  },
  {
   "cell_type": "code",
   "execution_count": 66,
   "id": "f8a23f7f-069e-418f-91f9-03f9f51443b6",
   "metadata": {},
   "outputs": [],
   "source": [
    "driver = start_chrome()"
   ]
  },
  {
   "cell_type": "code",
   "execution_count": 67,
   "id": "bd8348a0-3b70-4a44-9ddb-6dc65ba0a34a",
   "metadata": {},
   "outputs": [],
   "source": [
    "email = \"{REDACTED}\"\n",
    "password=  \"{I_didnt_leave_the_password_here_this_time}\""
   ]
  },
  {
   "cell_type": "code",
   "execution_count": 68,
   "id": "bd1c5e7a-f4be-4022-a3ea-f496c6b4ff8c",
   "metadata": {},
   "outputs": [],
   "source": [
    "go_to(\"https://platform.id.seccon.jp/login\")"
   ]
  },
  {
   "cell_type": "code",
   "execution_count": 69,
   "id": "90b30128-e411-43d4-a8fc-7a3d74497b5e",
   "metadata": {},
   "outputs": [],
   "source": [
    "write(email,into='Email')\n",
    "write(password,into='Password')\n",
    "click('Login')"
   ]
  },
  {
   "cell_type": "code",
   "execution_count": 70,
   "id": "972f6eb7-15d1-459d-8a18-3578247a2e70",
   "metadata": {},
   "outputs": [],
   "source": [
    "from selenium.webdriver.common.by import By"
   ]
  },
  {
   "cell_type": "code",
   "execution_count": 71,
   "id": "b59e6c08-ec70-41d9-bce0-41d020cd7f29",
   "metadata": {},
   "outputs": [],
   "source": [
    "driver.find_elements(By.XPATH,'//button')[0].click()\n"
   ]
  },
  {
   "cell_type": "code",
   "execution_count": 73,
   "id": "7b6d819f-0b45-4666-a354-8b365579a86b",
   "metadata": {},
   "outputs": [],
   "source": [
    "sleep(3)\n",
    "driver.find_elements(By.XPATH,'//button')[0].click()"
   ]
  },
  {
   "cell_type": "code",
   "execution_count": 75,
   "id": "ba07bff6-4031-498c-b136-2f9830f6621e",
   "metadata": {},
   "outputs": [],
   "source": [
    "click('Scoreboard')"
   ]
  },
  {
   "cell_type": "code",
   "execution_count": 16,
   "id": "4a4340b3-5e03-4dd9-9a1c-b1727dcbd468",
   "metadata": {},
   "outputs": [],
   "source": [
    "from bs4 import BeautifulSoup"
   ]
  },
  {
   "cell_type": "code",
   "execution_count": 76,
   "id": "1e518dc7-d41a-4df7-9226-97c603a853b6",
   "metadata": {},
   "outputs": [],
   "source": [
    "soup = BeautifulSoup(driver.page_source,'html.parser')"
   ]
  },
  {
   "cell_type": "code",
   "execution_count": 24,
   "id": "610771a1-2463-4e61-b788-815f0f4e5370",
   "metadata": {},
   "outputs": [],
   "source": [
    "tables = soup.find_all('table > tbody')"
   ]
  },
  {
   "cell_type": "code",
   "execution_count": 77,
   "id": "66c99f80-fe94-499a-9384-38e3eb8e825b",
   "metadata": {},
   "outputs": [],
   "source": [
    "rows= soup.find_all('td')"
   ]
  },
  {
   "cell_type": "code",
   "execution_count": 79,
   "id": "308ae875-8f89-431f-bc8e-0be874e17e49",
   "metadata": {},
   "outputs": [],
   "source": [
    "import pandas as pd"
   ]
  },
  {
   "cell_type": "code",
   "execution_count": 80,
   "id": "97eab4ee-d69b-4293-b681-5807dad6a391",
   "metadata": {},
   "outputs": [],
   "source": [
    "df = pd.DataFrame()"
   ]
  },
  {
   "cell_type": "code",
   "execution_count": 78,
   "id": "939004e5-84b4-488e-86d1-1410d81b0df3",
   "metadata": {},
   "outputs": [],
   "source": [
    "name =[i.text for i in rows[1::5]]\n",
    "score= [i.text for i in rows[2::5]]\n",
    "eligible = [i.text for i in rows[3::5]]\n"
   ]
  },
  {
   "cell_type": "code",
   "execution_count": 135,
   "id": "3e4c0748-e0da-464f-8fa3-54064ec1aa1d",
   "metadata": {},
   "outputs": [],
   "source": [
    "challenges =[]"
   ]
  },
  {
   "cell_type": "code",
   "execution_count": 134,
   "id": "849d49f6-c3e3-4d50-a798-391afd0550c8",
   "metadata": {},
   "outputs": [],
   "source": [
    "def parse_team(i):\n",
    "    click(i)\n",
    "    sleep(2.5)\n",
    "    soup = BeautifulSoup(driver.page_source,'html.parser')\n",
    "    rows= soup.find_all('td')\n",
    "    challenge = [i.text for i in rows[::4]]\n",
    "    category = [i.text for i in rows[1::4]]\n",
    "    rank = [i.text for i in rows[2::4]]\n",
    "    time = [i.text for i in rows[3::4]]\n",
    "    driver.execute_script('window.history.go(-1)')\n",
    "    s={'challenge_name':challenge,'challenge_category':category,'challenge_rank':rank,'solve_time':time}\n",
    "    return s"
   ]
  },
  {
   "cell_type": "code",
   "execution_count": 143,
   "id": "b5460565-61b6-4fe0-8e60-eda1784948c9",
   "metadata": {},
   "outputs": [],
   "source": [
    "for i in name:\n",
    "    try:\n",
    "     c =parse_team(i)\n",
    "     challenges.append(c)\n",
    "    except:\n",
    "     c =parse_team(i.strip())\n",
    "     challenges.append(c)"
   ]
  },
  {
   "cell_type": "code",
   "execution_count": 147,
   "id": "9279a213-868d-49ad-88c2-4702168c8f5d",
   "metadata": {},
   "outputs": [],
   "source": [
    "df['team'] = name\n",
    "df['challenges'] = challenges\n",
    "df['score'] = score\n",
    "df['eligible'] = eligible"
   ]
  },
  {
   "cell_type": "code",
   "execution_count": 149,
   "id": "031a97f4-dc0f-4eea-a62f-2bd35ff091f9",
   "metadata": {},
   "outputs": [],
   "source": [
    "df.to_csv('seccon.csv')"
   ]
  }
 ],
 "metadata": {
  "kernelspec": {
   "display_name": "Python 3 (ipykernel)",
   "language": "python",
   "name": "python3"
  },
  "language_info": {
   "codemirror_mode": {
    "name": "ipython",
    "version": 3
   },
   "file_extension": ".py",
   "mimetype": "text/x-python",
   "name": "python",
   "nbconvert_exporter": "python",
   "pygments_lexer": "ipython3",
   "version": "3.11.7"
  }
 },
 "nbformat": 4,
 "nbformat_minor": 5
}
