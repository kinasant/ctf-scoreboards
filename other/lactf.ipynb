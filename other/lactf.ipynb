{
 "cells": [
  {
   "cell_type": "code",
   "execution_count": 1,
   "id": "516a2bd4-9f97-46f3-b7f8-6136ea7513e7",
   "metadata": {},
   "outputs": [],
   "source": [
    "from bs4 import BeautifulSoup"
   ]
  },
  {
   "cell_type": "code",
   "execution_count": 2,
   "id": "6d3990e8-21c3-40fd-8271-995146950465",
   "metadata": {},
   "outputs": [],
   "source": [
    "from helium import *"
   ]
  },
  {
   "cell_type": "code",
   "execution_count": 3,
   "id": "a9be04df-652b-47ae-8384-1c95bfba7fc7",
   "metadata": {
    "scrolled": true
   },
   "outputs": [],
   "source": [
    "from time import sleep"
   ]
  },
  {
   "cell_type": "code",
   "execution_count": 19,
   "id": "78d4c1ce-42ed-406e-9598-a6e45ce716b9",
   "metadata": {},
   "outputs": [
    {
     "name": "stderr",
     "output_type": "stream",
     "text": [
      "There was an error managing chromedriver (error sending request for url (https://googlechromelabs.github.io/chrome-for-testing/known-good-versions-with-downloads.json)); using driver found in the cache\n"
     ]
    }
   ],
   "source": [
    "driver = start_chrome()"
   ]
  },
  {
   "cell_type": "code",
   "execution_count": 7,
   "id": "0805300b-d444-4e30-a9ba-175edc2d061b",
   "metadata": {},
   "outputs": [],
   "source": [
    "team = []\n",
    "name = []\n",
    "score = []\n",
    "for i in range(1,11):\n",
    "    go_to(f\"https://platform.lac.tf/scores?page={i}&division=all&pageSize=100\")\n",
    "    sleep(8)\n",
    "    elem = driver.find_element(\"xpath\", \"//tbody\")\n",
    "    source_code = elem.get_attribute(\"outerHTML\")\n",
    "    soup = BeautifulSoup(source_code,'html.parser')\n",
    "    l1 = soup.find_all('td')\n",
    "    team += [i.a.get('href') for i in l1[1::3]]\n",
    "    score += [i.text for i in l1[2::3]]\n",
    "    name += [i.a.text for i in l1[1::3]]"
   ]
  },
  {
   "cell_type": "code",
   "execution_count": 71,
   "id": "8c1a2588-5d8d-4f3c-b2fe-ad042df6e881",
   "metadata": {},
   "outputs": [],
   "source": [
    "elem = driver.find_element(\"xpath\", \"//div[@class='card c0135']\")\n",
    "source_code = elem.get_attribute(\"outerHTML\")\n",
    "soup = BeautifulSoup(source_code,'html.parser')"
   ]
  },
  {
   "cell_type": "code",
   "execution_count": 10,
   "id": "16c3e37b-2f3d-4162-b3ec-4f17f892d61c",
   "metadata": {},
   "outputs": [],
   "source": [
    "url  = r\"https://platform.lac.tf/\""
   ]
  },
  {
   "cell_type": "code",
   "execution_count": 8,
   "id": "07de2e18-7047-4610-858a-3ebd2f5284aa",
   "metadata": {},
   "outputs": [],
   "source": [
    "def parse_team():\n",
    "    elem = driver.find_element(\"xpath\", \"//div[@class='card c0135']\")\n",
    "    source_code = elem.get_attribute(\"outerHTML\")\n",
    "    soup = BeautifulSoup(source_code,'html.parser')\n",
    "    soup= soup.find_all('div')[6:]\n",
    "    category = [i.text for i in soup[::8]]\n",
    "    chall  =  [i.text for i in soup[2::8]]\n",
    "    solve_time=  [i.text for i in soup[4::8]]\n",
    "    points = [i.text for i in soup[6::8]]\n",
    "    s = {'challenge_name': chall,'challenge_category': category,'challenge_points': points,'solve_time':solve_time}\n",
    "    return s"
   ]
  },
  {
   "cell_type": "code",
   "execution_count": null,
   "id": "2666292c-0cc8-457a-876c-e7f2745b655b",
   "metadata": {},
   "outputs": [],
   "source": [
    "challenges = []\n",
    "for i in team:\n",
    "    go_to(url+i)\n",
    "    sleep(3)\n",
    "    challenges.append(parse_team())"
   ]
  },
  {
   "cell_type": "code",
   "execution_count": 28,
   "id": "a252599b-ee03-453b-8824-20fa4abd9f77",
   "metadata": {},
   "outputs": [],
   "source": [
    "import pandas as pd"
   ]
  },
  {
   "cell_type": "code",
   "execution_count": 29,
   "id": "92cbcc77-bd57-476b-977c-2293cd49afc2",
   "metadata": {},
   "outputs": [],
   "source": [
    "df = pd.DataFrame()"
   ]
  },
  {
   "cell_type": "code",
   "execution_count": 32,
   "id": "f6f8d337-79dc-4c0a-9c0c-f78994163a9f",
   "metadata": {},
   "outputs": [],
   "source": [
    "df['name'] = name\n",
    "df['points'] = score\n",
    "df[\"challenge\"] = challenges"
   ]
  },
  {
   "cell_type": "code",
   "execution_count": 34,
   "id": "e7d3c0fa-7404-4755-8eb9-6ffb6df0d6c4",
   "metadata": {},
   "outputs": [],
   "source": [
    "df.to_csv('lactf.csv',index= False)"
   ]
  },
  {
   "cell_type": "code",
   "execution_count": 18,
   "id": "d18f8a8a-7527-4dd2-98d1-3fd34b249058",
   "metadata": {},
   "outputs": [],
   "source": [
    "kill_browser()"
   ]
  }
 ],
 "metadata": {
  "kernelspec": {
   "display_name": "Python 3 (ipykernel)",
   "language": "python",
   "name": "python3"
  },
  "language_info": {
   "codemirror_mode": {
    "name": "ipython",
    "version": 3
   },
   "file_extension": ".py",
   "mimetype": "text/x-python",
   "name": "python",
   "nbconvert_exporter": "python",
   "pygments_lexer": "ipython3",
   "version": "3.11.7"
  }
 },
 "nbformat": 4,
 "nbformat_minor": 5
}
