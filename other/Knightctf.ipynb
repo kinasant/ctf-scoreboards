{
 "cells": [
  {
   "cell_type": "code",
   "execution_count": 5,
   "id": "b77634e1-320c-4fd2-be35-93fa81c17987",
   "metadata": {},
   "outputs": [],
   "source": [
    "from helium import *\n",
    "from bs4 import BeautifulSoup\n",
    "import pandas as pd\n",
    "from time import sleep"
   ]
  },
  {
   "cell_type": "code",
   "execution_count": 123,
   "id": "d313d4e1-937d-43dc-b258-19e983cb471c",
   "metadata": {},
   "outputs": [],
   "source": [
    "from seleniumbase import Driver"
   ]
  },
  {
   "cell_type": "code",
   "execution_count": 130,
   "id": "11536441-4620-4db8-9afe-56b46310c9d9",
   "metadata": {
    "scrolled": true
   },
   "outputs": [],
   "source": [
    "driver = Driver(uc = True)"
   ]
  },
  {
   "cell_type": "code",
   "execution_count": 131,
   "id": "60c0ed4e-f233-4c08-9a99-c8c70f957e33",
   "metadata": {},
   "outputs": [],
   "source": [
    "set_driver(driver)"
   ]
  },
  {
   "cell_type": "code",
   "execution_count": 132,
   "id": "969cd2ca-695d-4ccd-ad24-c32ace108341",
   "metadata": {},
   "outputs": [],
   "source": [
    "go_to(\"https://2025.knightctf.com/scoreboard\")"
   ]
  },
  {
   "cell_type": "code",
   "execution_count": 76,
   "id": "e730fb32-22ca-4089-a3c9-aec2521e144f",
   "metadata": {},
   "outputs": [],
   "source": [
    "soup = BeautifulSoup(driver.page_source,'html.parser')"
   ]
  },
  {
   "cell_type": "code",
   "execution_count": 77,
   "id": "35ee13a3-38c5-486d-b815-fa5f19cdcfa6",
   "metadata": {},
   "outputs": [],
   "source": [
    "table = soup.find('table')"
   ]
  },
  {
   "cell_type": "code",
   "execution_count": 78,
   "id": "00a9e20d-9782-4032-8922-4f8091917552",
   "metadata": {},
   "outputs": [],
   "source": [
    "team= table.find_all('a')[1:]"
   ]
  },
  {
   "cell_type": "code",
   "execution_count": 79,
   "id": "27cd94b8-d9a6-4f92-8eed-d4a575ebfac8",
   "metadata": {},
   "outputs": [],
   "source": [
    "name = [i.text for i in team]\n",
    "team = [i.get('href') for i in team]"
   ]
  },
  {
   "cell_type": "code",
   "execution_count": 87,
   "id": "7d1f8fb3-c3b6-41da-83f2-20b63a72cfcc",
   "metadata": {},
   "outputs": [],
   "source": [
    "points= table.find_all('td')"
   ]
  },
  {
   "cell_type": "code",
   "execution_count": 88,
   "id": "d0bcd724-2c52-4037-a668-0557be1c9c41",
   "metadata": {},
   "outputs": [],
   "source": [
    "points = [i.text for i in points if i.get('x-text')==\"standing.score\"][1:]"
   ]
  },
  {
   "cell_type": "code",
   "execution_count": 61,
   "id": "22a4b4fc-799d-4471-a4d3-b3eeaf2ae44a",
   "metadata": {},
   "outputs": [],
   "source": [
    "url = \"https://2025.knightctf.com\""
   ]
  },
  {
   "cell_type": "code",
   "execution_count": 92,
   "id": "5717a45a-faf7-4f79-97bd-57da82bc7b85",
   "metadata": {},
   "outputs": [],
   "source": [
    "go_to(url+team[0])"
   ]
  },
  {
   "cell_type": "code",
   "execution_count": 93,
   "id": "8441e13d-b3d0-4903-8030-5b0c7efe8029",
   "metadata": {},
   "outputs": [],
   "source": [
    "soup = BeautifulSoup(driver.page_source,'html.parser')"
   ]
  },
  {
   "cell_type": "code",
   "execution_count": 94,
   "id": "b01d976d-ff1e-4259-93dd-0d1c10454088",
   "metadata": {
    "scrolled": true
   },
   "outputs": [],
   "source": [
    "tables = soup.find_all('table')[-1]"
   ]
  },
  {
   "cell_type": "code",
   "execution_count": 95,
   "id": "0b195770-4f24-4a90-80be-9fbc50f070ac",
   "metadata": {},
   "outputs": [],
   "source": [
    "challs= [i.text.strip() for i in tables.select('a')]"
   ]
  },
  {
   "cell_type": "code",
   "execution_count": 116,
   "id": "b3e18fd4-1495-482b-8dd7-d6b339be5320",
   "metadata": {},
   "outputs": [],
   "source": [
    "def parse_team():\n",
    "    soup = BeautifulSoup(driver.page_source, 'html.parser')\n",
    "    tables = soup.find_all('tbody')[-1]\n",
    "    challs= [i.text.strip() for i in tables.select('a')]\n",
    "    time = [i.get('data-time') for i in  tables.select('span')]\n",
    "    category = [i.text.strip() for i in tables.select('td')[1::4]]\n",
    "    points = [i.text for i in tables.select('td')[2::4]]\n",
    "    s = {'challenge_name': challs,'challenge_category': category,'challenge_points': points,'solve_time': time}\n",
    "    return s"
   ]
  },
  {
   "cell_type": "code",
   "execution_count": 117,
   "id": "3f526aee-2a7c-458e-bd4f-37f570080ff1",
   "metadata": {},
   "outputs": [],
   "source": [
    "df = pd.DataFrame()"
   ]
  },
  {
   "cell_type": "code",
   "execution_count": 118,
   "id": "491d0bf3-0b41-417e-b723-2a3684262bd7",
   "metadata": {},
   "outputs": [],
   "source": [
    "challenges = []\n",
    "df['name'] = name\n",
    "df['points'] = points"
   ]
  },
  {
   "cell_type": "code",
   "execution_count": 134,
   "id": "6ebc433d-cbbf-44c5-bca3-c6a8668eff67",
   "metadata": {
    "scrolled": true
   },
   "outputs": [],
   "source": [
    "for i in team:\n",
    "    go_to(url+i)\n",
    "    s = parse_team()\n",
    "    sleep(2)\n",
    "    challenges.append(s)"
   ]
  },
  {
   "cell_type": "code",
   "execution_count": 136,
   "id": "3c23488f-3fa6-4242-b43c-e3da055e3d3a",
   "metadata": {},
   "outputs": [],
   "source": [
    "df['challenges'] = challenges"
   ]
  },
  {
   "cell_type": "code",
   "execution_count": 138,
   "id": "fdb43195-390b-479e-968e-103877a8dd42",
   "metadata": {},
   "outputs": [],
   "source": [
    "df.to_csv('knightctf.csv',index=False)"
   ]
  },
  {
   "cell_type": "code",
   "execution_count": 139,
   "id": "ba35ba5b-1396-45a0-8925-bb4d79ab8420",
   "metadata": {},
   "outputs": [],
   "source": [
    "kill_browser()"
   ]
  }
 ],
 "metadata": {
  "kernelspec": {
   "display_name": "Python 3 (ipykernel)",
   "language": "python",
   "name": "python3"
  },
  "language_info": {
   "codemirror_mode": {
    "name": "ipython",
    "version": 3
   },
   "file_extension": ".py",
   "mimetype": "text/x-python",
   "name": "python",
   "nbconvert_exporter": "python",
   "pygments_lexer": "ipython3",
   "version": "3.11.7"
  }
 },
 "nbformat": 4,
 "nbformat_minor": 5
}
