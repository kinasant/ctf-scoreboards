{
 "cells": [
  {
   "cell_type": "code",
   "execution_count": 3,
   "id": "92da3ce9-c6fa-4e0f-bde9-adcbd4ee1fd1",
   "metadata": {},
   "outputs": [],
   "source": [
    "from helium import *\n",
    "from bs4 import BeautifulSoup\n",
    "import pandas as pd\n",
    "from time import sleep"
   ]
  },
  {
   "cell_type": "code",
   "execution_count": 4,
   "id": "552e685b-3dbd-4a73-bbb3-3d2de252682f",
   "metadata": {},
   "outputs": [],
   "source": [
    "driver = start_chrome()"
   ]
  },
  {
   "cell_type": "code",
   "execution_count": 5,
   "id": "ded24ced-58d1-43f4-bbbe-afcab4d13cab",
   "metadata": {},
   "outputs": [],
   "source": [
    "go_to('https://platform.ctf.hkcert.org/scoreboard')"
   ]
  },
  {
   "cell_type": "code",
   "execution_count": 14,
   "id": "473de66a-3cfb-4ac8-b3a5-6d1b6b04256e",
   "metadata": {},
   "outputs": [],
   "source": [
    "df = pd.DataFrame()"
   ]
  },
  {
   "cell_type": "code",
   "execution_count": 15,
   "id": "49dcf2d9-14b7-4a84-a066-25d18371bb3e",
   "metadata": {},
   "outputs": [],
   "source": [
    "t=[]\n",
    "c=[]"
   ]
  },
  {
   "cell_type": "code",
   "execution_count": 177,
   "id": "60141106-253e-42c2-aa04-a800160a7cc9",
   "metadata": {},
   "outputs": [],
   "source": [
    "l1 = Text(to_left_of=Button('Next'),to_right_of=Button('Previous')).value"
   ]
  },
  {
   "cell_type": "code",
   "execution_count": 178,
   "id": "8dc0f26b-a839-4c99-a53e-e0c83e445398",
   "metadata": {},
   "outputs": [
    {
     "data": {
      "text/plain": [
       "'Page 1 of 121'"
      ]
     },
     "execution_count": 178,
     "metadata": {},
     "output_type": "execute_result"
    }
   ],
   "source": [
    "l1"
   ]
  },
  {
   "cell_type": "code",
   "execution_count": 160,
   "id": "557800ff-b126-4368-93e3-b1cebdb4c28b",
   "metadata": {},
   "outputs": [
    {
     "data": {
      "text/plain": [
       "' 1 '"
      ]
     },
     "execution_count": 160,
     "metadata": {},
     "output_type": "execute_result"
    }
   ],
   "source": [
    "l1[l1.index('Page')+4:l1.index('of')]"
   ]
  },
  {
   "cell_type": "code",
   "execution_count": 16,
   "id": "0bef0dfb-7d2d-4288-b9a0-05b78e708eda",
   "metadata": {},
   "outputs": [],
   "source": [
    "def to_page(i):\n",
    "    sleep(1)\n",
    "    for j in range(i-1):\n",
    "        click('next')"
   ]
  },
  {
   "cell_type": "code",
   "execution_count": 17,
   "id": "8353a3fa-a6e9-4241-a5f8-7a77bd558820",
   "metadata": {},
   "outputs": [],
   "source": [
    "def start_page():\n",
    "    l1 = Text(to_left_of=Button('Next'),to_right_of=Button('Previous')).value\n",
    "    p =int(l1[l1.index('Page')+4:l1.index('of')])\n",
    "    for i in range(p-1):\n",
    "        click(\"Previous\")\n",
    "    "
   ]
  },
  {
   "cell_type": "code",
   "execution_count": 245,
   "id": "1a279047-9745-476f-a9fd-ac54bbb8dcaa",
   "metadata": {},
   "outputs": [],
   "source": [
    "start_page()"
   ]
  },
  {
   "cell_type": "code",
   "execution_count": 18,
   "id": "661e5a8c-daac-4848-9ccf-2692534ca56a",
   "metadata": {},
   "outputs": [],
   "source": [
    "def parse_team(i,j):\n",
    "    if Text(i).exists():\n",
    "        click(i)\n",
    "    elif Text(i.strip()).exists():\n",
    "        click(i.strip())\n",
    "    else:\n",
    "        print(\"Not found\")\n",
    "        driver.execute_script(\"window.history.go(-1)\")\n",
    "        sleep(0.2)\n",
    "        go_to_page(j)\n",
    "        return {}\n",
    "    cnt=0\n",
    "    while Text(\"No orders\").exists():\n",
    "     sleep(0.5)\n",
    "     if cnt>3:\n",
    "        driver.execute_script(\"window.history.go(-1)\")\n",
    "        sleep(0.2)\n",
    "        go_to_page(j)\n",
    "        return {}\n",
    "     cnt+=1\n",
    "    soup = BeautifulSoup(driver.page_source, 'html.parser')\n",
    "    s = [i.text for i in soup.find_all('span')]\n",
    "    data = s[s.index('Price')+1:s.index('Events')]\n",
    "    score = data[-1]\n",
    "    data = data[:-4]\n",
    "    challs = data[::2]\n",
    "    points = data[1::2]\n",
    "    driver.execute_script(\"window.history.go(-1)\")\n",
    "    sleep(0.2)\n",
    "    go_to_page(j)\n",
    "    s1 = {\"challenge_name\":challs,\"challenge_points\":points,\"challenge_score\":score}\n",
    "    return s1"
   ]
  },
  {
   "cell_type": "code",
   "execution_count": 218,
   "id": "359379e0-e18b-4814-9567-dc21453e82d9",
   "metadata": {},
   "outputs": [],
   "source": [
    "#from selenium.webdriver.common.by import By\n",
    "def go_to_page(i):\n",
    "    sleep(0.2)\n",
    "    global q\n",
    "    #global s \n",
    "    q = driver.page_source\n",
    "    if q =='<html><head></head><body></body></html>':\n",
    "        driver.execute_script(\"window.history.go(1)\")\n",
    "    soup = BeautifulSoup(q,'html.parser')\n",
    "    #l1 = Text(to_left_of=Button('Next'),to_right_of=Button('Previous')).value\n",
    "    l1 = soup.css.select('span[class=\"px-1.5\"]')[0].text\n",
    "    p =int(l1[l1.index('Page')+4:l1.index('of')])\n",
    "    #s = driver.find_elements(By.XPATH,'//button[text()=\"Next\"]')[0]\n",
    "    for i in range(i-p):\n",
    "        click(\"Next\")\n",
    "        #s.click()\n",
    "    sleep(0.1)"
   ]
  },
  {
   "cell_type": "code",
   "execution_count": 108,
   "id": "be3ad457-dbb7-48d3-86ba-bc34fe153a92",
   "metadata": {},
   "outputs": [
    {
     "data": {
      "text/plain": [
       "'<html><head></head><body></body></html>'"
      ]
     },
     "execution_count": 108,
     "metadata": {},
     "output_type": "execute_result"
    }
   ],
   "source": [
    "q"
   ]
  },
  {
   "cell_type": "code",
   "execution_count": null,
   "id": "b8ad9b91-f940-4cba-9f36-26ab5d6afa3b",
   "metadata": {},
   "outputs": [],
   "source": [
    "for i in range(51):\n",
    "    go_to_page(i)\n",
    "    soup = BeautifulSoup(driver.page_source, 'html.parser')\n",
    "    teams = [i.text for i in soup.find_all('span')]\n",
    "    ans = []\n",
    "    for cnt,j in enumerate(teams):\n",
    "        if 'Page' in j:\n",
    "            ans=teams[cnt-10:cnt]\n",
    "            break\n",
    "    try:\n",
    "        for k in ans:\n",
    "         p = parse_team(k,i)\n",
    "         sleep(1)\n",
    "         c.append(p)\n",
    "         t.append(k)\n",
    "    except:\n",
    "        for n in ans[ans.index(k):]:\n",
    "         go_to_page(i)\n",
    "         p = parse_team(n,i)\n",
    "         sleep(1)\n",
    "         c.append(p)\n",
    "         t.append(n)"
   ]
  },
  {
   "cell_type": "code",
   "execution_count": 214,
   "id": "54fb8bb3-b013-498f-a060-7bf39db20d35",
   "metadata": {},
   "outputs": [],
   "source": [
    "df['Team'] = t"
   ]
  },
  {
   "cell_type": "code",
   "execution_count": 215,
   "id": "e6a11615-bc81-4e1b-9d88-f2da1229888a",
   "metadata": {},
   "outputs": [],
   "source": [
    "df[\"Challenges\"] = c"
   ]
  },
  {
   "cell_type": "code",
   "execution_count": 216,
   "id": "3363ba33-7d85-4e8a-be9e-70df85addc7b",
   "metadata": {},
   "outputs": [],
   "source": [
    "df.to_csv('hkcert.csv')"
   ]
  }
 ],
 "metadata": {
  "kernelspec": {
   "display_name": "Python 3 (ipykernel)",
   "language": "python",
   "name": "python3"
  },
  "language_info": {
   "codemirror_mode": {
    "name": "ipython",
    "version": 3
   },
   "file_extension": ".py",
   "mimetype": "text/x-python",
   "name": "python",
   "nbconvert_exporter": "python",
   "pygments_lexer": "ipython3",
   "version": "3.11.7"
  }
 },
 "nbformat": 4,
 "nbformat_minor": 5
}
