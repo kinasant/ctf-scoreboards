{
 "cells": [
  {
   "cell_type": "code",
   "execution_count": 1,
   "id": "f9199041-c3f3-4004-abcf-7029cb44dfa5",
   "metadata": {},
   "outputs": [],
   "source": [
    "from bs4 import BeautifulSoup"
   ]
  },
  {
   "cell_type": "code",
   "execution_count": 2,
   "id": "7c299685-cf7f-4085-8832-23b33c53f428",
   "metadata": {},
   "outputs": [],
   "source": [
    "import pandas as pd"
   ]
  },
  {
   "cell_type": "code",
   "execution_count": 4,
   "id": "0fa6f1ad-177c-42c7-b49f-4c9c32cb1ab2",
   "metadata": {},
   "outputs": [],
   "source": [
    "with open('Competition.html','rb') as f:\n",
    "    source_code = f.read()"
   ]
  },
  {
   "cell_type": "code",
   "execution_count": 5,
   "id": "db22f17b-f9bc-4d85-89df-46599d7b69a2",
   "metadata": {},
   "outputs": [],
   "source": [
    "soup = BeautifulSoup(source_code,'html.parser')"
   ]
  },
  {
   "cell_type": "code",
   "execution_count": 8,
   "id": "ae5a7bfc-d196-4e25-9ee5-14c759e48f44",
   "metadata": {},
   "outputs": [],
   "source": [
    "with open('temp.html','wb') as f:\n",
    "    f.write(soup.prettify().encode())"
   ]
  },
  {
   "cell_type": "code",
   "execution_count": 12,
   "id": "a62601eb-e190-46e3-8567-66027a17120a",
   "metadata": {},
   "outputs": [],
   "source": [
    "tables =soup.find_all('table')"
   ]
  },
  {
   "cell_type": "code",
   "execution_count": 13,
   "id": "7627f2d0-bc1f-469a-b1ce-b1e11c5eac08",
   "metadata": {},
   "outputs": [],
   "source": [
    "t1 = tables[0]"
   ]
  },
  {
   "cell_type": "code",
   "execution_count": 19,
   "id": "d331536f-80d1-44cb-ae93-93c517aa901c",
   "metadata": {},
   "outputs": [],
   "source": [
    "l1  = t1.find(\"thead\")"
   ]
  },
  {
   "cell_type": "code",
   "execution_count": null,
   "id": "347067ad-62de-4b8d-80fa-3ba213a8d132",
   "metadata": {
    "scrolled": true
   },
   "outputs": [],
   "source": [
    "s1 =  l1.find_all('th')"
   ]
  },
  {
   "cell_type": "code",
   "execution_count": 27,
   "id": "a610e2fb-0e94-466a-81a7-65a1595575e0",
   "metadata": {},
   "outputs": [],
   "source": [
    "cols = []"
   ]
  },
  {
   "cell_type": "code",
   "execution_count": 28,
   "id": "dc2afebe-ad6b-4294-9b49-b03b23bcba49",
   "metadata": {
    "scrolled": true
   },
   "outputs": [],
   "source": [
    "for i in s1:\n",
    "    if i.text:\n",
    "        cols.append(i.get('colspan'))"
   ]
  },
  {
   "cell_type": "code",
   "execution_count": 33,
   "id": "5c536f3b-5ecb-455f-94a2-17409f2be5fd",
   "metadata": {},
   "outputs": [],
   "source": [
    "s2 = l1.find_all('span')"
   ]
  },
  {
   "cell_type": "code",
   "execution_count": 35,
   "id": "c04dfb67-3d17-462d-bc46-17ab8bd8724d",
   "metadata": {},
   "outputs": [],
   "source": [
    "cols = cols[:5]"
   ]
  },
  {
   "cell_type": "code",
   "execution_count": 37,
   "id": "6a7e06cd-1aae-409f-b67f-d6b3184dcb6d",
   "metadata": {},
   "outputs": [],
   "source": [
    "categories = [i.text for i in s2][:len(cols)]"
   ]
  },
  {
   "cell_type": "code",
   "execution_count": 67,
   "id": "6c145bb2-54db-49ba-9b60-8a8c3fa71007",
   "metadata": {},
   "outputs": [],
   "source": [
    "l1 = {}\n",
    "k1 = len(cols)\n",
    "challs = []\n",
    "for cnt,i in enumerate(cols):\n",
    "    for j in range(int(i)):\n",
    "        challs.append(s2[k1].text)\n",
    "        l1[s2[k1].text] = categories[cnt]\n",
    "        k1+=1"
   ]
  },
  {
   "cell_type": "code",
   "execution_count": 57,
   "id": "31483e23-326a-4b64-9dc6-2a3fe3e1e7d5",
   "metadata": {
    "scrolled": true
   },
   "outputs": [],
   "source": [
    "head = t1.find('thead').find_all('tr')"
   ]
  },
  {
   "cell_type": "code",
   "execution_count": 63,
   "id": "66426254-ef5e-4a80-b051-0ed7f23f0f7d",
   "metadata": {
    "scrolled": true
   },
   "outputs": [],
   "source": [
    "points = [i.text for i in head[2].find_all('th')][4:]"
   ]
  },
  {
   "cell_type": "code",
   "execution_count": 70,
   "id": "605136d6-8eb1-4763-8df4-ab501d6bee6e",
   "metadata": {},
   "outputs": [],
   "source": [
    "table= tables[1]"
   ]
  },
  {
   "cell_type": "code",
   "execution_count": 72,
   "id": "5d242f57-0184-4fc1-8ee7-7b771e0583cc",
   "metadata": {},
   "outputs": [],
   "source": [
    "body = table.find('tbody')"
   ]
  },
  {
   "cell_type": "code",
   "execution_count": 74,
   "id": "eb64266c-758f-4a72-80ca-bf9ced85ba98",
   "metadata": {},
   "outputs": [],
   "source": [
    "t2= body.find_all(\"td\")"
   ]
  },
  {
   "cell_type": "code",
   "execution_count": 130,
   "id": "fdcab07c-9315-4166-94cd-81803d23e7cb",
   "metadata": {},
   "outputs": [],
   "source": [
    "rows = []\n",
    "for i in range(0,len(t2),31):\n",
    "    rows.append(t2[i:(i+31)])"
   ]
  },
  {
   "cell_type": "code",
   "execution_count": 133,
   "id": "2cd9fbf6-bfac-47e1-97bb-4644f25efb68",
   "metadata": {},
   "outputs": [],
   "source": [
    "name = []\n",
    "score = []\n",
    "challenges = []\n",
    "for i in rows:\n",
    "    challenge_name =[]\n",
    "    challenge_category = []\n",
    "    challenge_points = []\n",
    "    name.append(i[1].text)\n",
    "    score.append(i[2].text)\n",
    "    for cnt,j in enumerate(i[4:]):\n",
    "     if j.find('img') or j.find('svg'):\n",
    "        challenge_name.append(challs[cnt])\n",
    "        challenge_category.append(l1[challs[cnt]])\n",
    "        challenge_points.append(points[cnt])\n",
    "    challenges.append({'challenge_name': challenge_name,'challenge_category': challenge_category,'challenge_points': challenge_points})"
   ]
  },
  {
   "cell_type": "code",
   "execution_count": 138,
   "id": "51295439-aa3e-4269-a0c4-b371c9780b2a",
   "metadata": {},
   "outputs": [
    {
     "data": {
      "text/plain": [
       "337"
      ]
     },
     "execution_count": 138,
     "metadata": {},
     "output_type": "execute_result"
    }
   ],
   "source": [
    "len(name)"
   ]
  },
  {
   "cell_type": "code",
   "execution_count": 141,
   "id": "1ff48788-abb7-4bf9-aa9d-e80b0d6bd949",
   "metadata": {},
   "outputs": [],
   "source": [
    "df = pd.DataFrame()"
   ]
  },
  {
   "cell_type": "code",
   "execution_count": 142,
   "id": "3caa4638-bdef-4b72-a86f-ea707df73f03",
   "metadata": {},
   "outputs": [],
   "source": [
    "df['name'] = name\n",
    "df['points'] = score\n",
    "df['challenges'] = challenges"
   ]
  },
  {
   "cell_type": "code",
   "execution_count": 144,
   "id": "c345f822-57e2-4738-940a-0b9ab62ea45e",
   "metadata": {},
   "outputs": [],
   "source": [
    "df.to_csv('tpctf.csv',index =False)"
   ]
  }
 ],
 "metadata": {
  "kernelspec": {
   "display_name": "Python 3 (ipykernel)",
   "language": "python",
   "name": "python3"
  },
  "language_info": {
   "codemirror_mode": {
    "name": "ipython",
    "version": 3
   },
   "file_extension": ".py",
   "mimetype": "text/x-python",
   "name": "python",
   "nbconvert_exporter": "python",
   "pygments_lexer": "ipython3",
   "version": "3.11.7"
  }
 },
 "nbformat": 4,
 "nbformat_minor": 5
}
