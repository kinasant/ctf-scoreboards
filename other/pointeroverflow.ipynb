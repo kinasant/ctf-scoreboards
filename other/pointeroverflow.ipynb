{
 "cells": [
  {
   "cell_type": "code",
   "execution_count": 1,
   "id": "de571d15-fc51-40c7-bb80-3d55dd5e71b2",
   "metadata": {},
   "outputs": [],
   "source": [
    "from helium import *"
   ]
  },
  {
   "cell_type": "code",
   "execution_count": 2,
   "id": "694b3be4-b145-46af-ba28-a386b6b9db0f",
   "metadata": {},
   "outputs": [],
   "source": [
    "from bs4 import BeautifulSoup"
   ]
  },
  {
   "cell_type": "code",
   "execution_count": 3,
   "id": "ada2dc90-2d6b-4d9c-b224-223b52d38d6c",
   "metadata": {},
   "outputs": [],
   "source": [
    "from time import sleep"
   ]
  },
  {
   "cell_type": "code",
   "execution_count": 4,
   "id": "9b3c95fc-5361-46aa-9987-ba3b986ee4e1",
   "metadata": {},
   "outputs": [],
   "source": [
    "import pandas as pd"
   ]
  },
  {
   "cell_type": "code",
   "execution_count": 5,
   "id": "833e09e0-05fd-4890-be9c-67329392d0b8",
   "metadata": {},
   "outputs": [],
   "source": [
    "driver = start_chrome()"
   ]
  },
  {
   "cell_type": "code",
   "execution_count": 6,
   "id": "96162902-dcc9-4479-bd95-44dee8192a31",
   "metadata": {},
   "outputs": [],
   "source": [
    "email = \"{REDACTED}\"\n",
    "password=  \"{I_didnt_leave_the_password_here_this_time}\""
   ]
  },
  {
   "cell_type": "code",
   "execution_count": 8,
   "id": "c2199816-6bcc-4bf1-a6fd-f0706d36bfaf",
   "metadata": {},
   "outputs": [],
   "source": [
    "go_to(\"https://pointeroverflowctf.com/login\")"
   ]
  },
  {
   "cell_type": "code",
   "execution_count": 9,
   "id": "fba0ced7-6ec1-4f64-bc5c-2d751c130e3c",
   "metadata": {},
   "outputs": [],
   "source": [
    "write(email,into='email')\n",
    "write(password,into='password')"
   ]
  },
  {
   "cell_type": "code",
   "execution_count": 10,
   "id": "fddddcd3-bd9f-4bf3-8077-36dae045d1ec",
   "metadata": {},
   "outputs": [],
   "source": [
    "click('Login')"
   ]
  },
  {
   "cell_type": "code",
   "execution_count": 11,
   "id": "b6cf6c2a-71be-45b3-a060-e7972e6bb272",
   "metadata": {},
   "outputs": [],
   "source": [
    "click('Scoreboard')"
   ]
  },
  {
   "cell_type": "code",
   "execution_count": 12,
   "id": "fbe1358c-8e8c-4f20-9eb3-d6f548748725",
   "metadata": {},
   "outputs": [],
   "source": [
    "soup = BeautifulSoup(driver.page_source,'html.parser')"
   ]
  },
  {
   "cell_type": "code",
   "execution_count": 13,
   "id": "c8d58e63-9fc3-4653-9bb2-b23c6c3aaa53",
   "metadata": {},
   "outputs": [],
   "source": [
    "table = soup.find('table')"
   ]
  },
  {
   "cell_type": "code",
   "execution_count": 14,
   "id": "26dd2e12-e77e-4ff2-b8b2-09db3dc6a48e",
   "metadata": {},
   "outputs": [],
   "source": [
    "rows=table.find_all('td')"
   ]
  },
  {
   "cell_type": "code",
   "execution_count": 15,
   "id": "b34e549f-217f-4be2-a44e-cbf9f4efe272",
   "metadata": {},
   "outputs": [
    {
     "data": {
      "text/plain": [
       "7521"
      ]
     },
     "execution_count": 15,
     "metadata": {},
     "output_type": "execute_result"
    }
   ],
   "source": [
    "len(rows)"
   ]
  },
  {
   "cell_type": "code",
   "execution_count": 16,
   "id": "6a424439-2cb5-47e2-bb41-14ae4534e6d3",
   "metadata": {},
   "outputs": [],
   "source": [
    "position = [i.text for i in rows[::3]]"
   ]
  },
  {
   "cell_type": "code",
   "execution_count": 17,
   "id": "6e6eb1b0-853f-487b-898d-301b2e3bb8d7",
   "metadata": {},
   "outputs": [],
   "source": [
    "name = [i.text for i in rows[1::3]]"
   ]
  },
  {
   "cell_type": "code",
   "execution_count": 18,
   "id": "0b728cf4-bd1d-4a80-8b2a-abd53b1b1c34",
   "metadata": {},
   "outputs": [],
   "source": [
    "team = [i.find('a').get('href') for i in rows[1::3]]"
   ]
  },
  {
   "cell_type": "code",
   "execution_count": 19,
   "id": "33f87106-6eec-491f-a839-daf332888e6a",
   "metadata": {},
   "outputs": [],
   "source": [
    "points = [i.text for i in rows[2::3]]"
   ]
  },
  {
   "cell_type": "code",
   "execution_count": 20,
   "id": "ccb8b058-19cc-407c-8bcc-7e99e197e79d",
   "metadata": {},
   "outputs": [],
   "source": [
    "url = \"https://pointeroverflowctf.com\""
   ]
  },
  {
   "cell_type": "code",
   "execution_count": 21,
   "id": "7b58cb9e-bf62-4f1e-b01a-ee56b3baab69",
   "metadata": {},
   "outputs": [],
   "source": [
    "def parse_team():\n",
    "    soup = BeautifulSoup(driver.page_source, 'html.parser')\n",
    "    table = soup.find('tbody')\n",
    "    rows = table.find_all('td')\n",
    "    challs= [i.text for i in rows[::3]]\n",
    "    points = [i.text for i in rows[1::3]]\n",
    "    time = [i.text for i in rows[2::3]]\n",
    "    category = [i.split(' ')[0] for i in challs]\n",
    "    challs = [i[i.index('-')+2:] for i in challs]\n",
    "    s = {'challenge_name': challs,'challenge_category': category,'challenge_points': points,'solve_time': time}\n",
    "    return s"
   ]
  },
  {
   "cell_type": "code",
   "execution_count": 30,
   "id": "f1f88e79-0895-4487-af98-9e2868cb521a",
   "metadata": {},
   "outputs": [],
   "source": [
    "for j in range(len(team)-cnt):\n",
    "    challenges.append(s)"
   ]
  },
  {
   "cell_type": "code",
   "execution_count": null,
   "id": "7823bade-39d4-4acd-8781-7212da44014a",
   "metadata": {},
   "outputs": [],
   "source": [
    "challenges = []\n",
    "for cnt,i in enumerate(team):\n",
    "    if int(points[cnt])==0:\n",
    "        s = {'challenge_name':[] ,'challenge_category':[],'challenge_points': [],'solve_time':[] }\n",
    "        continue\n",
    "    go_to(url+i)\n",
    "    sleep(1.5)\n",
    "    s=parse_team()\n",
    "    challenges.append(s)"
   ]
  },
  {
   "cell_type": "code",
   "execution_count": 39,
   "id": "826ac186-1003-45db-89eb-f6ef98f4d089",
   "metadata": {},
   "outputs": [],
   "source": [
    "df=  pd.DataFrame()"
   ]
  },
  {
   "cell_type": "code",
   "execution_count": 40,
   "id": "4b7c22b8-e114-429d-a9cd-35a81219177a",
   "metadata": {},
   "outputs": [],
   "source": [
    "df[\"Position\"] = position\n",
    "df['name'] = name\n",
    "df['points'] = points\n",
    "df[\"challenge\"] = challenges"
   ]
  },
  {
   "cell_type": "code",
   "execution_count": 41,
   "id": "96c8a145-9d0c-46c7-94be-1874d4a3ed60",
   "metadata": {},
   "outputs": [],
   "source": [
    "df.to_csv('pointeroverflow.csv',index=False)"
   ]
  },
  {
   "cell_type": "code",
   "execution_count": 42,
   "id": "c3fb0c5c-ed04-4bc3-a376-6976d0e89997",
   "metadata": {},
   "outputs": [],
   "source": [
    "kill_browser()"
   ]
  }
 ],
 "metadata": {
  "kernelspec": {
   "display_name": "Python 3 (ipykernel)",
   "language": "python",
   "name": "python3"
  },
  "language_info": {
   "codemirror_mode": {
    "name": "ipython",
    "version": 3
   },
   "file_extension": ".py",
   "mimetype": "text/x-python",
   "name": "python",
   "nbconvert_exporter": "python",
   "pygments_lexer": "ipython3",
   "version": "3.11.7"
  }
 },
 "nbformat": 4,
 "nbformat_minor": 5
}
