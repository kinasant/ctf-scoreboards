{
 "cells": [
  {
   "cell_type": "code",
   "execution_count": 2,
   "id": "a87062c1-9d1f-4c44-889d-aebffc752f7e",
   "metadata": {},
   "outputs": [],
   "source": [
    "from helium import *"
   ]
  },
  {
   "cell_type": "code",
   "execution_count": 5,
   "id": "50f58c7b-002a-411c-b7e8-2be1169352f7",
   "metadata": {},
   "outputs": [],
   "source": [
    "from bs4 import BeautifulSoup"
   ]
  },
  {
   "cell_type": "code",
   "execution_count": 90,
   "id": "ee9e5ae2-d3dd-40ef-a14d-c30dfafba412",
   "metadata": {},
   "outputs": [],
   "source": [
    "import pandas as pd"
   ]
  },
  {
   "cell_type": "code",
   "execution_count": 3,
   "id": "f9454795-fd44-494f-9482-05cb0195078d",
   "metadata": {},
   "outputs": [],
   "source": [
    "driver = start_chrome()"
   ]
  },
  {
   "cell_type": "code",
   "execution_count": 4,
   "id": "2b7aef26-d562-4b9e-9383-655b5d159fd3",
   "metadata": {},
   "outputs": [],
   "source": [
    "go_to(\"https://x3c.tf/#scoreboard\")"
   ]
  },
  {
   "cell_type": "code",
   "execution_count": 22,
   "id": "84eafce6-86c7-4fce-945f-e9e80a9d0e6d",
   "metadata": {},
   "outputs": [],
   "source": [
    "elem = driver.find_elements(\"xpath\", \"//table\")"
   ]
  },
  {
   "cell_type": "code",
   "execution_count": 27,
   "id": "e088ba98-df02-47dd-b512-56963ceb7c9e",
   "metadata": {},
   "outputs": [],
   "source": [
    "activityLog = elem[0].get_attribute(\"outerHTML\")"
   ]
  },
  {
   "cell_type": "code",
   "execution_count": 81,
   "id": "fe4f5234-fec3-4cff-bc88-db29706e2c8d",
   "metadata": {},
   "outputs": [],
   "source": [
    "soup  = BeautifulSoup(activityLog,'html.parser')"
   ]
  },
  {
   "cell_type": "code",
   "execution_count": 62,
   "id": "a82039d7-41a6-4ec6-a178-91d55b178e5b",
   "metadata": {},
   "outputs": [],
   "source": [
    "l1  = {}\n",
    "for i in name[:points.index('0')]:\n",
    "    l1[i] = [],[]"
   ]
  },
  {
   "cell_type": "code",
   "execution_count": 66,
   "id": "c5b63d25-42af-4922-a0bd-121124736311",
   "metadata": {
    "scrolled": true
   },
   "outputs": [],
   "source": [
    "rows = soup.find_all('td')"
   ]
  },
  {
   "cell_type": "code",
   "execution_count": 82,
   "id": "31806f2a-94c7-4d94-b29b-a0961cb4a3e0",
   "metadata": {},
   "outputs": [],
   "source": [
    "time = [i.text for i in rows[::3]]\n",
    "team = [i.text for i in rows[1::3]]\n",
    "chall = [i.text for i in rows[2::3]]"
   ]
  },
  {
   "cell_type": "code",
   "execution_count": 69,
   "id": "44ab06ce-30a5-453e-80b0-ded79048baba",
   "metadata": {},
   "outputs": [],
   "source": [
    "for cnt,i in enumerate(team):\n",
    "    l1[i][0].append(chall[cnt])\n",
    "    l1[i][1].append(time[cnt])"
   ]
  },
  {
   "cell_type": "code",
   "execution_count": 29,
   "id": "0bb428fd-6471-4124-bc2c-90c3148ab4b3",
   "metadata": {},
   "outputs": [],
   "source": [
    "with open('activityLog.html','wb') as f:\n",
    "    f.write(soup.prettify().encode())"
   ]
  },
  {
   "cell_type": "code",
   "execution_count": 30,
   "id": "631b180e-4389-46e1-b3ba-297787b44753",
   "metadata": {},
   "outputs": [],
   "source": [
    "scoreboardTable = elem[1].get_attribute(\"outerHTML\")"
   ]
  },
  {
   "cell_type": "code",
   "execution_count": 83,
   "id": "2d2834a3-1b0f-4d57-a194-a93707204a7e",
   "metadata": {},
   "outputs": [],
   "source": [
    "soup  = BeautifulSoup(scoreboardTable,'html.parser')"
   ]
  },
  {
   "cell_type": "code",
   "execution_count": 33,
   "id": "1f7bc2e8-fdc6-48c4-9b36-8990a2d36abe",
   "metadata": {},
   "outputs": [],
   "source": [
    "with open('scoreboardTable.html','wb') as f:\n",
    "    f.write(soup.prettify().encode())"
   ]
  },
  {
   "cell_type": "code",
   "execution_count": 49,
   "id": "bfa7334d-382d-4998-9921-372a54926bfb",
   "metadata": {
    "scrolled": true
   },
   "outputs": [],
   "source": [
    "points = [i.text for i in soup.find_all('td')[1::4]]"
   ]
  },
  {
   "cell_type": "code",
   "execution_count": 84,
   "id": "fd757ef4-0806-4d76-8224-7b28a008e6b6",
   "metadata": {},
   "outputs": [],
   "source": [
    "name = [i.text for i in soup.find_all('td')[2::4]]"
   ]
  },
  {
   "cell_type": "code",
   "execution_count": 73,
   "id": "142188e4-0869-4ebb-8f00-f88a046c0763",
   "metadata": {},
   "outputs": [],
   "source": [
    "challenges= [] "
   ]
  },
  {
   "cell_type": "code",
   "execution_count": 87,
   "id": "16abf2f3-9a1c-4d79-9214-c236a6d22be8",
   "metadata": {},
   "outputs": [],
   "source": [
    "for i in name[:points.index('0')]:\n",
    "    s = {'challenge_name': l1[i][0],'solve_time': l1[i][1]}\n",
    "    challenges.append(s)"
   ]
  },
  {
   "cell_type": "code",
   "execution_count": 88,
   "id": "b305ba5b-e74a-4fb6-bee6-9ba5655580ab",
   "metadata": {},
   "outputs": [],
   "source": [
    "for i in name[points.index('0'):]:\n",
    "    s = {'challenge_name':[],'solve_time':[]}\n",
    "    challenges.append(s)"
   ]
  },
  {
   "cell_type": "code",
   "execution_count": 92,
   "id": "2a27854d-2f8b-4fb2-8c20-2d1d23af0f4f",
   "metadata": {},
   "outputs": [],
   "source": [
    "df = pd.DataFrame()"
   ]
  },
  {
   "cell_type": "code",
   "execution_count": 93,
   "id": "39b95fa3-6e92-40ca-a5e0-590d09ba8552",
   "metadata": {},
   "outputs": [],
   "source": [
    "df['name'] = name\n",
    "df['points'] = points\n",
    "df['challenges'] = challenges"
   ]
  },
  {
   "cell_type": "code",
   "execution_count": 94,
   "id": "af320920-af9b-403d-9613-8565a09edd5b",
   "metadata": {},
   "outputs": [],
   "source": [
    "df.to_csv('x3ctf.csv',index=False)"
   ]
  },
  {
   "cell_type": "code",
   "execution_count": 95,
   "id": "5a21c450-ead4-4b9c-84d7-ba913bee2eb2",
   "metadata": {},
   "outputs": [],
   "source": [
    "kill_browser()"
   ]
  }
 ],
 "metadata": {
  "kernelspec": {
   "display_name": "Python 3 (ipykernel)",
   "language": "python",
   "name": "python3"
  },
  "language_info": {
   "codemirror_mode": {
    "name": "ipython",
    "version": 3
   },
   "file_extension": ".py",
   "mimetype": "text/x-python",
   "name": "python",
   "nbconvert_exporter": "python",
   "pygments_lexer": "ipython3",
   "version": "3.11.7"
  }
 },
 "nbformat": 4,
 "nbformat_minor": 5
}
