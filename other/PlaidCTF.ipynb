{
 "cells": [
  {
   "cell_type": "code",
   "execution_count": 1,
   "id": "3a1d6a9e-279a-4ef6-b867-faab4162faa8",
   "metadata": {},
   "outputs": [],
   "source": [
    "from bs4 import BeautifulSoup"
   ]
  },
  {
   "cell_type": "code",
   "execution_count": 2,
   "id": "6d8bec85-104d-4ff4-993f-d42b4de34c8f",
   "metadata": {},
   "outputs": [],
   "source": [
    "import pandas as pd"
   ]
  },
  {
   "cell_type": "code",
   "execution_count": 3,
   "id": "cbb957a1-ca1b-4962-b88c-577dfd78f337",
   "metadata": {},
   "outputs": [],
   "source": [
    "with open('Plaid CTF 2025.html','rb') as f:\n",
    "    y = f.read()"
   ]
  },
  {
   "cell_type": "code",
   "execution_count": 4,
   "id": "0514586d-ca67-439f-81c6-2c01a0895c55",
   "metadata": {},
   "outputs": [],
   "source": [
    "soup = BeautifulSoup(y,'lxml')"
   ]
  },
  {
   "cell_type": "code",
   "execution_count": 5,
   "id": "e966c400-f296-46ed-9d04-b2fd25f7ef64",
   "metadata": {},
   "outputs": [],
   "source": [
    "tables=  soup.find_all('table')"
   ]
  },
  {
   "cell_type": "code",
   "execution_count": 6,
   "id": "acb09b1a-4f84-4cda-ab97-84b4db5c44ab",
   "metadata": {},
   "outputs": [],
   "source": [
    "challs =[i.text for i in soup.find_all('div', class_=\"_challenge-title_1aety_153\")]"
   ]
  },
  {
   "cell_type": "code",
   "execution_count": 9,
   "id": "364e62d4-8781-4eaa-942b-cf1eb0b4ef66",
   "metadata": {},
   "outputs": [],
   "source": [
    "s = soup.find_all('span')"
   ]
  },
  {
   "cell_type": "code",
   "execution_count": 65,
   "id": "032b97c2-f775-4929-b697-057ee638665e",
   "metadata": {},
   "outputs": [],
   "source": [
    "teams = soup.find_all('div',class_=\"_team-row_1aety_41\")"
   ]
  },
  {
   "cell_type": "code",
   "execution_count": 67,
   "id": "d4c22877-19ab-4f46-970a-e6070d7d7cb2",
   "metadata": {
    "scrolled": true
   },
   "outputs": [
    {
     "data": {
      "text/plain": [
       "['_team-cell_1aety_67']"
      ]
     },
     "execution_count": 67,
     "metadata": {},
     "output_type": "execute_result"
    }
   ],
   "source": [
    "teams[0].find_all('div')[0].get('class')"
   ]
  },
  {
   "cell_type": "code",
   "execution_count": null,
   "id": "87c15a95-41f0-49c3-808c-91f8cc68e842",
   "metadata": {},
   "outputs": [],
   "source": [
    "\"_score_1aety_1 _nonzero_1aety_273\""
   ]
  },
  {
   "cell_type": "code",
   "execution_count": 83,
   "id": "c39d089c-c1a5-41e0-98a0-240bcd76c063",
   "metadata": {},
   "outputs": [],
   "source": [
    "t1 = soup.find_all('svg',class_=  '_solved-marker_1aety_225')"
   ]
  },
  {
   "cell_type": "code",
   "execution_count": 84,
   "id": "4540336f-42bc-4cc3-99ca-16c199f4728c",
   "metadata": {},
   "outputs": [],
   "source": [
    "t2 = [i.get('class') for i in t1]"
   ]
  },
  {
   "cell_type": "code",
   "execution_count": 115,
   "id": "0a583015-768d-4ed3-8ce1-1fadf3c6235e",
   "metadata": {},
   "outputs": [],
   "source": [
    "k = 12"
   ]
  },
  {
   "cell_type": "code",
   "execution_count": 116,
   "id": "85eff33e-89fa-46b8-99dd-2cf1373eaf3f",
   "metadata": {
    "scrolled": true
   },
   "outputs": [],
   "source": [
    "category = [k:=i[1].split('_')[1] for i in t2[:len(challs)+3] if i[1].split('_')[1]!=k]"
   ]
  },
  {
   "cell_type": "code",
   "execution_count": 119,
   "id": "c78ea3ab-80c7-4473-a58f-e42d3148c41d",
   "metadata": {},
   "outputs": [],
   "source": [
    "category += ['pwn','web']"
   ]
  },
  {
   "cell_type": "code",
   "execution_count": 121,
   "id": "0adb22ca-dfa4-4104-9bfd-9375f13ba9f4",
   "metadata": {},
   "outputs": [],
   "source": [
    "l1 = {}\n",
    "for cnt,i in enumerate(challs):\n",
    "    l1[i] = category[cnt]"
   ]
  },
  {
   "cell_type": "code",
   "execution_count": 58,
   "id": "134b6c13-d0cb-4f5a-a45f-97dc5d151382",
   "metadata": {},
   "outputs": [
    {
     "data": {
      "text/plain": [
       "<div class=\"_score_1aety_1 _nonzero_1aety_273\">100</div>"
      ]
     },
     "execution_count": 58,
     "metadata": {},
     "output_type": "execute_result"
    }
   ],
   "source": [
    "teams[0].find('div',{'class':[\"_score_1aety_1\"]})"
   ]
  },
  {
   "cell_type": "code",
   "execution_count": 151,
   "id": "f519a262-fb28-46e3-aeba-33068d6a2e0b",
   "metadata": {
    "scrolled": true
   },
   "outputs": [],
   "source": [
    "challenges = []\n",
    "for i in teams:\n",
    "    challenge_name = []\n",
    "    challenge_category = []\n",
    "    challenge_points= []\n",
    "    cnt = 0\n",
    "    for j in i.find_all('div'):\n",
    "        if j.get('class') == ['_score_1aety_1', '_nonzero_1aety_273']:\n",
    "            challenge_name.append(k:=challs[cnt])\n",
    "            challenge_points.append(j.text)\n",
    "            challenge_category.append(l1[k])\n",
    "            cnt+=1\n",
    "        if j.get('class') == ['_score_1aety_1']:\n",
    "            cnt+=1\n",
    "    s = {'challenge_name': challenge_name,'challenge_category': challenge_category,'challenge_points': challenge_points}\n",
    "    challenges.append(s)"
   ]
  },
  {
   "cell_type": "code",
   "execution_count": 164,
   "id": "77275094-25eb-4187-a784-be68979d0680",
   "metadata": {},
   "outputs": [],
   "source": [
    "s = soup.find_all('span')"
   ]
  },
  {
   "cell_type": "code",
   "execution_count": 175,
   "id": "f4359588-9fd8-488d-b563-fdb5c743840a",
   "metadata": {},
   "outputs": [],
   "source": [
    "name = [i.text for i in s[2::5]]"
   ]
  },
  {
   "cell_type": "code",
   "execution_count": 180,
   "id": "2442a23d-4dac-445d-9976-384027ff01b8",
   "metadata": {},
   "outputs": [],
   "source": [
    "points = [i.text for i in s[4::5]]"
   ]
  },
  {
   "cell_type": "code",
   "execution_count": 157,
   "id": "09cacb30-626e-40bc-870a-194ae157a560",
   "metadata": {},
   "outputs": [],
   "source": [
    "import pandas as pd"
   ]
  },
  {
   "cell_type": "code",
   "execution_count": 158,
   "id": "750968df-6186-4108-87b5-d684baaf29b4",
   "metadata": {},
   "outputs": [],
   "source": [
    "df = pd.DataFrame()"
   ]
  },
  {
   "cell_type": "code",
   "execution_count": 182,
   "id": "d6d86624-9cfa-49aa-9e95-66ee012f4a35",
   "metadata": {},
   "outputs": [],
   "source": [
    "df['name'] = name\n",
    "df['points'] = points"
   ]
  },
  {
   "cell_type": "code",
   "execution_count": 183,
   "id": "635939fa-de77-4955-9673-fd28434da751",
   "metadata": {},
   "outputs": [],
   "source": [
    "df['challenges'] = challenges"
   ]
  },
  {
   "cell_type": "code",
   "execution_count": 185,
   "id": "366a8c76-1fdc-4130-a8e2-a7d6cb09b10b",
   "metadata": {},
   "outputs": [],
   "source": [
    "df.to_csv('PlaidCTF.csv',index=  False)"
   ]
  }
 ],
 "metadata": {
  "kernelspec": {
   "display_name": "Python 3 (ipykernel)",
   "language": "python",
   "name": "python3"
  },
  "language_info": {
   "codemirror_mode": {
    "name": "ipython",
    "version": 3
   },
   "file_extension": ".py",
   "mimetype": "text/x-python",
   "name": "python",
   "nbconvert_exporter": "python",
   "pygments_lexer": "ipython3",
   "version": "3.11.7"
  }
 },
 "nbformat": 4,
 "nbformat_minor": 5
}
