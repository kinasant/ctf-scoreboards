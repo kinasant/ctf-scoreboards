{
 "cells": [
  {
   "cell_type": "code",
   "execution_count": 1,
   "id": "479bb2c2-fae5-44dd-b68c-92af24b86f90",
   "metadata": {},
   "outputs": [],
   "source": [
    "from helium import *"
   ]
  },
  {
   "cell_type": "code",
   "execution_count": 2,
   "id": "5229092d-992f-4c88-bb49-9ef511a5f640",
   "metadata": {},
   "outputs": [],
   "source": [
    "import pandas as pd"
   ]
  },
  {
   "cell_type": "code",
   "execution_count": 3,
   "id": "1fbec42c-499a-4edd-8ddf-b3a4f1fb4d2e",
   "metadata": {},
   "outputs": [],
   "source": [
    "from time import sleep"
   ]
  },
  {
   "cell_type": "code",
   "execution_count": 4,
   "id": "51508dbb-b528-4a99-a95d-38ffd640a433",
   "metadata": {},
   "outputs": [],
   "source": [
    "from bs4 import BeautifulSoup"
   ]
  },
  {
   "cell_type": "code",
   "execution_count": 5,
   "id": "77fc51f4-529d-4198-8019-db8b4647699a",
   "metadata": {},
   "outputs": [],
   "source": [
    "from seleniumbase import Driver"
   ]
  },
  {
   "cell_type": "code",
   "execution_count": 50,
   "id": "7d9dcebd-32d3-40c3-8b4e-38ee0504eb67",
   "metadata": {},
   "outputs": [],
   "source": [
    "driver = Driver(uc = True)"
   ]
  },
  {
   "cell_type": "code",
   "execution_count": 51,
   "id": "b00abbf7-56d3-47bf-b391-6f21cec533e5",
   "metadata": {},
   "outputs": [],
   "source": [
    "set_driver(driver)"
   ]
  },
  {
   "cell_type": "code",
   "execution_count": 8,
   "id": "b63e24ee-2fab-47cd-b3c1-5a043016685c",
   "metadata": {},
   "outputs": [],
   "source": [
    "go_to(\"https://ctf.dicega.ng/scores\")"
   ]
  },
  {
   "cell_type": "code",
   "execution_count": 9,
   "id": "79372009-5ea6-4e78-a2e2-eb310256a380",
   "metadata": {},
   "outputs": [],
   "source": [
    "elem = driver.find_element(\"xpath\", \"//tbody\")\n",
    "source_code = elem.get_attribute(\"outerHTML\")\n",
    "soup = BeautifulSoup(source_code,'html.parser')"
   ]
  },
  {
   "cell_type": "code",
   "execution_count": 13,
   "id": "cc353460-b747-4a2e-93d2-8564d390dec8",
   "metadata": {},
   "outputs": [],
   "source": [
    "l1 = soup.find_all('td')"
   ]
  },
  {
   "cell_type": "code",
   "execution_count": 14,
   "id": "22ae3ec8-d5d9-4596-8f83-ee7399b1d6df",
   "metadata": {},
   "outputs": [],
   "source": [
    "team = [i.a.get('href') for i in l1[1::3]]"
   ]
  },
  {
   "cell_type": "code",
   "execution_count": 15,
   "id": "210c9985-d9d1-4a82-8309-5037771d15c6",
   "metadata": {},
   "outputs": [],
   "source": [
    "name = [i.a.text for i in l1[1::3]]"
   ]
  },
  {
   "cell_type": "code",
   "execution_count": 18,
   "id": "65410d69-b916-45cc-a70b-f3eb6db1f88d",
   "metadata": {},
   "outputs": [],
   "source": [
    "team = []\n",
    "name = []\n",
    "score = []\n",
    "for i in range(1,8):\n",
    "    go_to(f\"https://ctf.dicega.ng/scores?page={i}&division=all&pageSize=100\")\n",
    "    sleep(8)\n",
    "    elem = driver.find_element(\"xpath\", \"//tbody\")\n",
    "    source_code = elem.get_attribute(\"outerHTML\")\n",
    "    soup = BeautifulSoup(source_code,'html.parser')\n",
    "    l1 = soup.find_all('td')\n",
    "    team += [i.a.get('href') for i in l1[1::3]]\n",
    "    score += [i.text for i in l1[2::3]]\n",
    "    name += [i.a.text for i in l1[1::3]]"
   ]
  },
  {
   "cell_type": "code",
   "execution_count": 20,
   "id": "ba9b3cad-8481-4270-bd7a-c46bde073ba5",
   "metadata": {},
   "outputs": [],
   "source": [
    "url =\"https://ctf.dicega.ng\""
   ]
  },
  {
   "cell_type": "code",
   "execution_count": 21,
   "id": "e4d1a6b9-7d8d-4406-8e03-a72a298cdcde",
   "metadata": {},
   "outputs": [],
   "source": [
    "go_to(url+team[0])"
   ]
  },
  {
   "cell_type": "code",
   "execution_count": 28,
   "id": "4579e115-f669-4a93-92cc-c784ef9585a5",
   "metadata": {},
   "outputs": [],
   "source": [
    "elem = driver.find_element(\"xpath\", \"//div[@class='card c0130']\")\n",
    "source_code = elem.get_attribute(\"outerHTML\")\n",
    "soup = BeautifulSoup(source_code,'html.parser')"
   ]
  },
  {
   "cell_type": "code",
   "execution_count": 31,
   "id": "946ee08a-c8af-4957-9e6d-e144f72edf2e",
   "metadata": {},
   "outputs": [],
   "source": [
    "def parse_team():\n",
    "    elem = driver.find_element(\"xpath\", \"//div[@class='card c0130']\")\n",
    "    source_code = elem.get_attribute(\"outerHTML\")\n",
    "    soup = BeautifulSoup(source_code,'html.parser')\n",
    "    soup= soup.find_all('div')[6:]\n",
    "    category = [i.text for i in soup[::8]]\n",
    "    chall  =  [i.text for i in soup[2::8]]\n",
    "    solve_time=  [i.text for i in soup[4::8]]\n",
    "    points = [i.text for i in soup[6::8]]\n",
    "    s = {'challenge_name': chall,'challenge_category': category,'challenge_points': points,'solve_time':solve_time}\n",
    "    return s"
   ]
  },
  {
   "cell_type": "code",
   "execution_count": 52,
   "id": "4140801c-7ea4-49cf-86a4-2c03fbe5a4c0",
   "metadata": {
    "scrolled": true
   },
   "outputs": [],
   "source": [
    "for i in team[team.index(i):]:\n",
    "    try:\n",
    "        go_to(url+i)\n",
    "        sleep(0.5)\n",
    "        challenges.append(parse_team())\n",
    "    except:\n",
    "        go_to(url+i)\n",
    "        sleep(1)\n",
    "        challenges.append(parse_team())"
   ]
  },
  {
   "cell_type": "code",
   "execution_count": 53,
   "id": "2b2c97c7-ad3e-4f51-85a4-205ee3c17374",
   "metadata": {},
   "outputs": [],
   "source": [
    "kill_browser()"
   ]
  },
  {
   "cell_type": "code",
   "execution_count": 55,
   "id": "1ed662d4-b1c6-4c6f-b790-c25bf01b7679",
   "metadata": {},
   "outputs": [],
   "source": [
    "df = pd.DataFrame()"
   ]
  },
  {
   "cell_type": "code",
   "execution_count": 56,
   "id": "01a61fb9-ea99-478d-b7a7-44a00e048a95",
   "metadata": {},
   "outputs": [],
   "source": [
    "df['name'] = name\n",
    "df['points'] = score\n",
    "df[\"challenge\"] = challenges"
   ]
  },
  {
   "cell_type": "code",
   "execution_count": 57,
   "id": "53ec8dd7-b61a-44b9-b05e-0c630b72ec50",
   "metadata": {},
   "outputs": [],
   "source": [
    "df.to_csv('dicectf.csv',index= False)"
   ]
  },
  {
   "cell_type": "code",
   "execution_count": null,
   "id": "bb230f21-ea91-43e3-a691-3894fdd45b17",
   "metadata": {},
   "outputs": [],
   "source": [
    "kill_browser()"
   ]
  }
 ],
 "metadata": {
  "kernelspec": {
   "display_name": "Python 3 (ipykernel)",
   "language": "python",
   "name": "python3"
  },
  "language_info": {
   "codemirror_mode": {
    "name": "ipython",
    "version": 3
   },
   "file_extension": ".py",
   "mimetype": "text/x-python",
   "name": "python",
   "nbconvert_exporter": "python",
   "pygments_lexer": "ipython3",
   "version": "3.11.7"
  }
 },
 "nbformat": 4,
 "nbformat_minor": 5
}
