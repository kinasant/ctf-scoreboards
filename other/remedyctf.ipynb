{
 "cells": [
  {
   "cell_type": "code",
   "execution_count": 1,
   "id": "69535f72-d4b5-4fe7-875d-21a0425c6c06",
   "metadata": {},
   "outputs": [],
   "source": [
    "from helium import *"
   ]
  },
  {
   "cell_type": "code",
   "execution_count": 1,
   "id": "1b60170e-c2b2-43d6-92cd-41efbb8d46a3",
   "metadata": {},
   "outputs": [],
   "source": [
    "from bs4 import BeautifulSoup"
   ]
  },
  {
   "cell_type": "code",
   "execution_count": 82,
   "id": "b8f99c07-569b-4294-9c3d-0d5ad8acce7a",
   "metadata": {},
   "outputs": [],
   "source": [
    "import pandas as pd"
   ]
  },
  {
   "cell_type": "code",
   "execution_count": 2,
   "id": "eb54e20b-32ce-4115-86f7-4007b00fc070",
   "metadata": {},
   "outputs": [],
   "source": [
    "driver = start_chrome()"
   ]
  },
  {
   "cell_type": "code",
   "execution_count": 4,
   "id": "089ed424-8e37-4e3c-a094-6cb810212b4d",
   "metadata": {},
   "outputs": [],
   "source": [
    "go_to(\"https://ctf.r.xyz/scoreboard\")"
   ]
  },
  {
   "cell_type": "code",
   "execution_count": 19,
   "id": "e8b93afb-4cc4-492f-90ce-063a78f9a8c0",
   "metadata": {},
   "outputs": [],
   "source": [
    "elem = driver.find_element(\"xpath\", \"//table\")\n",
    "source_code = elem.get_attribute(\"outerHTML\")"
   ]
  },
  {
   "cell_type": "code",
   "execution_count": 23,
   "id": "70422d2e-0f13-454e-a71d-d3ab756f4b6b",
   "metadata": {},
   "outputs": [],
   "source": [
    "soup = BeautifulSoup(source_code,'lxml')"
   ]
  },
  {
   "cell_type": "code",
   "execution_count": 25,
   "id": "2d827c4b-70a3-4454-a0e0-9e3d432b213b",
   "metadata": {},
   "outputs": [],
   "source": [
    "with open('source_code.html','wb') as f:\n",
    "    f.write(soup.prettify().encode())"
   ]
  },
  {
   "cell_type": "code",
   "execution_count": 2,
   "id": "9ff0dfbd-2354-4840-8aba-b283bf496bfc",
   "metadata": {},
   "outputs": [],
   "source": [
    "with open('source_code.html','rb') as f:\n",
    "    y = f.read().decode()"
   ]
  },
  {
   "cell_type": "code",
   "execution_count": 12,
   "id": "bd635e16-cd5e-4b9e-915c-1e524b910647",
   "metadata": {},
   "outputs": [],
   "source": [
    "soup = BeautifulSoup(y,'html.parser')"
   ]
  },
  {
   "cell_type": "code",
   "execution_count": 17,
   "id": "b6b7164d-edaf-49c8-a48e-7399b3344927",
   "metadata": {},
   "outputs": [],
   "source": [
    "table = soup.find('table')"
   ]
  },
  {
   "cell_type": "code",
   "execution_count": 18,
   "id": "f58c1419-e43a-45ba-bf81-07cd0745beaf",
   "metadata": {},
   "outputs": [],
   "source": [
    "rows = table.find_all('tr')"
   ]
  },
  {
   "cell_type": "code",
   "execution_count": 37,
   "id": "e1019270-72f5-43ad-ba7f-0227c0c42f8a",
   "metadata": {},
   "outputs": [],
   "source": [
    "c = [i.text.strip() for i in rows[0].find_all('div')]"
   ]
  },
  {
   "cell_type": "code",
   "execution_count": 38,
   "id": "4e82c608-a370-4e7e-b343-eafc22538a09",
   "metadata": {},
   "outputs": [],
   "source": [
    "c[1] = \"Welcome\""
   ]
  },
  {
   "cell_type": "code",
   "execution_count": 68,
   "id": "42366fa1-0749-433f-84a2-8785a7e81146",
   "metadata": {},
   "outputs": [],
   "source": [
    "category = c[1::2]"
   ]
  },
  {
   "cell_type": "code",
   "execution_count": 48,
   "id": "1261330d-62e8-4784-ac61-9479cd6be66d",
   "metadata": {},
   "outputs": [],
   "source": [
    "challenge = c[::2]"
   ]
  },
  {
   "cell_type": "code",
   "execution_count": 50,
   "id": "ff19b877-4412-4fd1-a40d-5e8cc985ff83",
   "metadata": {},
   "outputs": [],
   "source": [
    "l1 = {}\n",
    "for cnt,i in enumerate(challenge):\n",
    "    l1[i] = categories[cnt]"
   ]
  },
  {
   "cell_type": "code",
   "execution_count": 75,
   "id": "597408d2-1b0a-45fe-998e-af504beea078",
   "metadata": {},
   "outputs": [],
   "source": [
    "challenges = []\n",
    "name =[]\n",
    "points = []\n",
    "for i in rows[1:-1]:\n",
    "    row = i.find_all('td')\n",
    "    challenge_name =[]\n",
    "    challenge_category = []\n",
    "    name.append(row[1].text.strip())\n",
    "    points.append(row[2].text.strip().replace(',',''))\n",
    "    for cnt,j in enumerate(row[3:]):\n",
    "        if j.find('span'):\n",
    "            continue\n",
    "        challenge_name.append(challenge[cnt])\n",
    "        challenge_category.append(category[cnt])\n",
    "    s = {'challenge_name':challenge_name,'challenge_category':challenge_category}\n",
    "    challenges.append(s)"
   ]
  },
  {
   "cell_type": "code",
   "execution_count": 83,
   "id": "4458e893-1aaf-4625-9705-c5265668b8a6",
   "metadata": {},
   "outputs": [],
   "source": [
    "df = pd.DataFrame()"
   ]
  },
  {
   "cell_type": "code",
   "execution_count": 84,
   "id": "505608f4-e595-48cf-bf0d-d40064a8a7f0",
   "metadata": {},
   "outputs": [],
   "source": [
    "df['name'] = name\n",
    "df['points'] = points\n",
    "df['challenges'] = challenges"
   ]
  },
  {
   "cell_type": "code",
   "execution_count": 85,
   "id": "bec8a9ab-f02e-4342-9219-13ecb9484b78",
   "metadata": {},
   "outputs": [],
   "source": [
    "df.to_csv('remedyctf.csv')"
   ]
  }
 ],
 "metadata": {
  "kernelspec": {
   "display_name": "Python 3 (ipykernel)",
   "language": "python",
   "name": "python3"
  },
  "language_info": {
   "codemirror_mode": {
    "name": "ipython",
    "version": 3
   },
   "file_extension": ".py",
   "mimetype": "text/x-python",
   "name": "python",
   "nbconvert_exporter": "python",
   "pygments_lexer": "ipython3",
   "version": "3.11.7"
  }
 },
 "nbformat": 4,
 "nbformat_minor": 5
}
