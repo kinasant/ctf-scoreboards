{
 "cells": [
  {
   "cell_type": "code",
   "execution_count": 1,
   "id": "9deee3ce-137e-47a1-a05b-342fbc89ed51",
   "metadata": {},
   "outputs": [],
   "source": [
    "from bs4 import BeautifulSoup"
   ]
  },
  {
   "cell_type": "code",
   "execution_count": 2,
   "id": "7236a6af-0989-4935-9523-04de6ce82313",
   "metadata": {},
   "outputs": [],
   "source": [
    "import pandas as pd"
   ]
  },
  {
   "cell_type": "code",
   "execution_count": 14,
   "id": "94b0ca1b-5969-4203-b53d-2cec000cce7e",
   "metadata": {},
   "outputs": [],
   "source": [
    "f = open(\"Ugra CTF Quals 2025.html\",'rb')"
   ]
  },
  {
   "cell_type": "code",
   "execution_count": 15,
   "id": "f3cbc8ee-24ea-4099-bf20-2bc007106661",
   "metadata": {},
   "outputs": [],
   "source": [
    "source_code = f.read()"
   ]
  },
  {
   "cell_type": "code",
   "execution_count": 17,
   "id": "ba5cb502-c91f-4368-a7f0-0fe069b22a3e",
   "metadata": {
    "scrolled": true
   },
   "outputs": [],
   "source": [
    "soup = BeautifulSoup(source_code.decode(),'html.parser')"
   ]
  },
  {
   "cell_type": "code",
   "execution_count": 76,
   "id": "ccd9d4d2-65a2-4447-b15a-993841d02059",
   "metadata": {
    "scrolled": true
   },
   "outputs": [],
   "source": [
    "main = soup.find('main')"
   ]
  },
  {
   "cell_type": "code",
   "execution_count": 78,
   "id": "6432a60c-d8db-4d18-8a34-aea3c6b5b702",
   "metadata": {
    "scrolled": true
   },
   "outputs": [],
   "source": [
    "m1 = main.find_all('span')"
   ]
  },
  {
   "cell_type": "code",
   "execution_count": 81,
   "id": "43029337-cb0c-4306-9a21-da9028025632",
   "metadata": {},
   "outputs": [],
   "source": [
    "challs = [i.text for i in m1[::2]]"
   ]
  },
  {
   "cell_type": "code",
   "execution_count": 86,
   "id": "d0a75e0b-8924-4bf9-9550-0f5c103a36d4",
   "metadata": {},
   "outputs": [],
   "source": [
    "m2 = [i.text.split(\"⋅\") for i in m1[1::2]]"
   ]
  },
  {
   "cell_type": "code",
   "execution_count": 125,
   "id": "ad02e120-72b9-43a3-a4e5-df18fbde361f",
   "metadata": {},
   "outputs": [],
   "source": [
    "category = [i[0].strip() for i in m2]\n",
    "chall_points = [i[1].strip() for i in m2]"
   ]
  },
  {
   "cell_type": "code",
   "execution_count": 28,
   "id": "8ba51599-786c-41ab-84e5-0d4af04b5095",
   "metadata": {
    "scrolled": true
   },
   "outputs": [],
   "source": [
    "table = soup.find('table')"
   ]
  },
  {
   "cell_type": "code",
   "execution_count": 72,
   "id": "8585cb2d-0bb0-4f78-9c61-03340238439c",
   "metadata": {
    "scrolled": true
   },
   "outputs": [],
   "source": [
    "rows= table.find_all('tr')[1:]"
   ]
  },
  {
   "cell_type": "code",
   "execution_count": 136,
   "id": "b83d5569-12be-4553-ad81-758442732a28",
   "metadata": {},
   "outputs": [],
   "source": [
    "challenges = []\n",
    "points = []\n",
    "name = []\n",
    "for i in rows:\n",
    "    challenge_name = []\n",
    "    challenge_points = []\n",
    "    challenge_category = []\n",
    "    name.append(i.find_all('th')[2].text)\n",
    "    t1 = i.find_all('td')\n",
    "    points.append(t1[0].text)\n",
    "    for cnt,j in enumerate(t1[2:]):\n",
    "        if j.text:\n",
    "            challenge_name.append(challs[cnt])\n",
    "            challenge_category.append(category[cnt])\n",
    "            challenge_points.append(chall_points[cnt])\n",
    "    challenges.append({'challenge_name': challenge_name,'challenge_category': challenge_category,'challenge_points': challenge_points})"
   ]
  },
  {
   "cell_type": "code",
   "execution_count": 134,
   "id": "099ddac3-6fc6-4510-a0b9-b3484e0b02ae",
   "metadata": {},
   "outputs": [],
   "source": [
    "df = pd.DataFrame()"
   ]
  },
  {
   "cell_type": "code",
   "execution_count": 142,
   "id": "dced55b6-79ed-455f-9789-ac3a1c24e0c0",
   "metadata": {},
   "outputs": [],
   "source": [
    "df['name'] = name\n",
    "df['points'] = points\n",
    "df['challenge'] = challenges"
   ]
  },
  {
   "cell_type": "code",
   "execution_count": 143,
   "id": "5fe5f47f-a8f0-4ecc-8e09-bf6bed28944d",
   "metadata": {},
   "outputs": [],
   "source": [
    "df.to_csv('Urga.csv',index = False)"
   ]
  }
 ],
 "metadata": {
  "kernelspec": {
   "display_name": "Python 3 (ipykernel)",
   "language": "python",
   "name": "python3"
  },
  "language_info": {
   "codemirror_mode": {
    "name": "ipython",
    "version": 3
   },
   "file_extension": ".py",
   "mimetype": "text/x-python",
   "name": "python",
   "nbconvert_exporter": "python",
   "pygments_lexer": "ipython3",
   "version": "3.11.7"
  }
 },
 "nbformat": 4,
 "nbformat_minor": 5
}
