{
 "cells": [
  {
   "cell_type": "code",
   "execution_count": 7,
   "id": "69ec08d3-52f1-4ea8-aee8-3b791b7a1ec8",
   "metadata": {},
   "outputs": [],
   "source": [
    "from helium import *\n",
    "from bs4 import BeautifulSoup"
   ]
  },
  {
   "cell_type": "code",
   "execution_count": 4,
   "id": "70451d98-2814-4e86-9d77-2fbdf30be659",
   "metadata": {},
   "outputs": [],
   "source": [
    "from time import sleep"
   ]
  },
  {
   "cell_type": "code",
   "execution_count": 27,
   "id": "9ee38394-97f8-4c3c-a2df-95cf32fe25bc",
   "metadata": {},
   "outputs": [],
   "source": [
    "import pandas as pd"
   ]
  },
  {
   "cell_type": "code",
   "execution_count": 2,
   "id": "815a3725-7c23-4ee8-a039-b6fb42db1370",
   "metadata": {},
   "outputs": [],
   "source": [
    "driver = start_chrome()"
   ]
  },
  {
   "cell_type": "code",
   "execution_count": null,
   "id": "67fa086b-6b9e-4299-b56b-f95e0d34f4d2",
   "metadata": {},
   "outputs": [],
   "source": [
    "go_to(\"https://ctf.0ops.sjtu.cn/scoreboard\")\n",
    "sleep(5)"
   ]
  },
  {
   "cell_type": "code",
   "execution_count": 92,
   "id": "b1bf376d-22f7-40c3-9353-8164c20ca08d",
   "metadata": {},
   "outputs": [],
   "source": [
    "c = 0\n",
    "l1 = {}\n",
    "for cnt,i in enumerate(c1):\n",
    "    for j in range(i):\n",
    "        l1[challenge[c]] = category[cnt]\n",
    "        c+=1"
   ]
  },
  {
   "cell_type": "code",
   "execution_count": 5,
   "id": "e14a45a1-17ba-4211-9c64-454877169f97",
   "metadata": {},
   "outputs": [],
   "source": [
    "elem = driver.find_element(\"xpath\", \"//table\")\n",
    "source_code = elem.get_attribute(\"outerHTML\")"
   ]
  },
  {
   "cell_type": "code",
   "execution_count": 8,
   "id": "0ff5980d-93cb-477d-a6df-0339e802dd07",
   "metadata": {},
   "outputs": [],
   "source": [
    "soup = BeautifulSoup(source_code,'html.parser')"
   ]
  },
  {
   "cell_type": "code",
   "execution_count": 89,
   "id": "1bdbe7c8-2bd8-4c72-ba60-6692e4ccc716",
   "metadata": {},
   "outputs": [],
   "source": [
    "category = [i.text for i in soup.find(\"table\").find('thead').find_all('tr')[1].find_all('th')[3:-1]]"
   ]
  },
  {
   "cell_type": "code",
   "execution_count": 90,
   "id": "cd67da21-e5da-4417-b4d7-f2dd66fb1752",
   "metadata": {},
   "outputs": [],
   "source": [
    "c1 = [int(i.get('colspan'))-1 for i in soup.find(\"table\").find('thead').find_all('tr')[1].find_all('th')[3:-1]]"
   ]
  },
  {
   "cell_type": "code",
   "execution_count": 48,
   "id": "7b7a116a-1246-45e1-b2bd-8f454a143c24",
   "metadata": {},
   "outputs": [],
   "source": [
    "challenge =[i.text for i in soup.find(\"table\").find('thead').find_all('tr')[2] if i.get('class')=='rotated scoreboard_flag'.split()]"
   ]
  },
  {
   "cell_type": "code",
   "execution_count": 37,
   "id": "2b5a8014-be4d-4d54-a89e-4f8a139977a6",
   "metadata": {},
   "outputs": [],
   "source": [
    "points = [i.text for i in soup.find(\"table\").find('thead').find_all('tr')[-1].find_all('th') if i.get('class')== \"scoreboard_flag right_border top-border scoreboard_score\".split()]"
   ]
  },
  {
   "cell_type": "code",
   "execution_count": 71,
   "id": "781542f0-23c1-45b7-a083-01c99213a2b7",
   "metadata": {},
   "outputs": [],
   "source": [
    "l2 = {}\n",
    "for cnt,i in enumerate(challenge):\n",
    "    l2[i] = points[cnt]"
   ]
  },
  {
   "cell_type": "code",
   "execution_count": 109,
   "id": "d856053c-4383-424f-ac96-d27d299e3044",
   "metadata": {},
   "outputs": [],
   "source": [
    "team_points =[]\n",
    "total_time  = []\n",
    "challenges= []\n",
    "position = []\n",
    "name = []\n",
    "for i in soup.find(\"table\").find('tbody').find_all('tr'):\n",
    "    position.append(i.find('td').text)\n",
    "    name.append(i.find('b').text)\n",
    "    team_points.append(i.find_all('td')[2].text)\n",
    "    total_time.append(i.find_all('td')[-1].text)\n",
    "    challenge_name= [j.get('data-original-title') for j in i.find_all('span')]\n",
    "    challenge_category= [l1[i] for i in challenge_name]\n",
    "    challenge_points=[l2[i] for i in challenge_name]\n",
    "    s = {'challenge_name': challenge_name,'challenge_category': challenge_category,'challenge_points': challenge_points}\n",
    "    challenges.append(s)"
   ]
  },
  {
   "cell_type": "code",
   "execution_count": 113,
   "id": "6477b7d2-e498-4f21-9ba8-f0c7ac2d4c4b",
   "metadata": {},
   "outputs": [],
   "source": [
    "df = pd.DataFrame()"
   ]
  },
  {
   "cell_type": "code",
   "execution_count": 114,
   "id": "3da034b7-8424-4970-8ffe-6ea69bd91373",
   "metadata": {},
   "outputs": [],
   "source": [
    "df[\"Position\"] = position\n",
    "df['name'] = name\n",
    "df['points'] = team_points\n",
    "df[\"challenge\"] = challenges\n",
    "df[\"Total Time\"] = total_time"
   ]
  },
  {
   "cell_type": "code",
   "execution_count": 115,
   "id": "82e16def-7a3a-4884-94a8-5b1c005dc2c5",
   "metadata": {},
   "outputs": [],
   "source": [
    "df.to_csv('0ops.csv',index = False)"
   ]
  },
  {
   "cell_type": "code",
   "execution_count": 118,
   "id": "d32c750e-6601-4df6-ae87-d81c0dce1763",
   "metadata": {},
   "outputs": [],
   "source": [
    "kill_browser()"
   ]
  }
 ],
 "metadata": {
  "kernelspec": {
   "display_name": "Python 3 (ipykernel)",
   "language": "python",
   "name": "python3"
  },
  "language_info": {
   "codemirror_mode": {
    "name": "ipython",
    "version": 3
   },
   "file_extension": ".py",
   "mimetype": "text/x-python",
   "name": "python",
   "nbconvert_exporter": "python",
   "pygments_lexer": "ipython3",
   "version": "3.11.7"
  }
 },
 "nbformat": 4,
 "nbformat_minor": 5
}
