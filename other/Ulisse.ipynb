{
 "cells": [
  {
   "cell_type": "code",
   "execution_count": 1,
   "id": "cfa5dd4b-e21d-49f5-92a4-a93f3ecd69a8",
   "metadata": {},
   "outputs": [],
   "source": [
    "from bs4 import BeautifulSoup"
   ]
  },
  {
   "cell_type": "code",
   "execution_count": 2,
   "id": "dd137299-2842-4e16-b649-8071652dbcd6",
   "metadata": {},
   "outputs": [],
   "source": [
    "from helium import *"
   ]
  },
  {
   "cell_type": "code",
   "execution_count": 3,
   "id": "9f0b727a-d9d0-4924-a2c5-e19f13e3e95f",
   "metadata": {},
   "outputs": [],
   "source": [
    "import pandas as pd"
   ]
  },
  {
   "cell_type": "code",
   "execution_count": 4,
   "id": "f356b92c-9d6b-400e-9a76-8b7839608b6a",
   "metadata": {},
   "outputs": [],
   "source": [
    "from time import sleep"
   ]
  },
  {
   "cell_type": "code",
   "execution_count": 5,
   "id": "ec9276d9-5689-471e-8eec-e0f6ab385057",
   "metadata": {},
   "outputs": [],
   "source": [
    "from seleniumbase import Driver"
   ]
  },
  {
   "cell_type": "code",
   "execution_count": null,
   "id": "f5c569c7-87d8-40d4-b2c9-bf400fd1ef24",
   "metadata": {},
   "outputs": [],
   "source": [
    "driver = Driver(uc = True)"
   ]
  },
  {
   "cell_type": "code",
   "execution_count": 7,
   "id": "537e1199-6953-488c-9d0a-e553d362bb3b",
   "metadata": {},
   "outputs": [],
   "source": [
    "set_driver(driver)"
   ]
  },
  {
   "cell_type": "code",
   "execution_count": 8,
   "id": "d6d97de9-c0e3-4ce8-9fe4-a2f1db180fe8",
   "metadata": {},
   "outputs": [],
   "source": [
    "go_to('https://2025.ulis.se/scoreboard')"
   ]
  },
  {
   "cell_type": "code",
   "execution_count": null,
   "id": "cfc5d2d3-e8d0-4205-8047-4b19b445df06",
   "metadata": {},
   "outputs": [],
   "source": [
    "click('Toggle scoreboard view')"
   ]
  },
  {
   "cell_type": "code",
   "execution_count": 42,
   "id": "3ee97337-1926-46b8-b1ad-67465aa69d51",
   "metadata": {},
   "outputs": [],
   "source": [
    "soup = BeautifulSoup(source_code,'lxml')"
   ]
  },
  {
   "cell_type": "code",
   "execution_count": 43,
   "id": "d3e3fe13-980b-4e3a-93af-ffd0ed1ccf92",
   "metadata": {},
   "outputs": [],
   "source": [
    "table = soup.find('table')"
   ]
  },
  {
   "cell_type": "code",
   "execution_count": 44,
   "id": "40aa8006-6814-40ce-b7a7-d10e416b3a98",
   "metadata": {},
   "outputs": [],
   "source": [
    "rows = table.find_all('tr')"
   ]
  },
  {
   "cell_type": "code",
   "execution_count": 45,
   "id": "8928891c-8d78-4a6c-9b3a-cde144968a0b",
   "metadata": {},
   "outputs": [],
   "source": [
    "challs = [i.text for i in rows[0].find_all('span')]"
   ]
  },
  {
   "cell_type": "code",
   "execution_count": 28,
   "id": "a7906c92-92f7-4341-aa99-12f30093cbec",
   "metadata": {},
   "outputs": [],
   "source": [
    "category = [i.text for i in rows[1].find_all('th')]"
   ]
  },
  {
   "cell_type": "code",
   "execution_count": 30,
   "id": "4d138521-3170-450b-a929-5491fc23349f",
   "metadata": {},
   "outputs": [],
   "source": [
    "c1= [i.get('colspan') for i in rows[1].find_all('th')]"
   ]
  },
  {
   "cell_type": "code",
   "execution_count": 82,
   "id": "696f28ab-42d6-4509-91b5-edab0acf89cc",
   "metadata": {},
   "outputs": [],
   "source": [
    "l1 = {}"
   ]
  },
  {
   "cell_type": "code",
   "execution_count": 91,
   "id": "22cb02e6-06bd-4e80-b74b-14e64188871f",
   "metadata": {},
   "outputs": [],
   "source": [
    "c = 0\n",
    "for cnt,i in enumerate(c1):\n",
    "    for j in range(int(i)):\n",
    "        l1[challs[c]] = category[cnt]\n",
    "        c+=1"
   ]
  },
  {
   "cell_type": "code",
   "execution_count": 9,
   "id": "10fb7870-127f-4f1f-89c3-4a9a219ce58b",
   "metadata": {},
   "outputs": [],
   "source": [
    "click('Toggle Scoreboard View')"
   ]
  },
  {
   "cell_type": "code",
   "execution_count": 47,
   "id": "c8559ab9-6f31-4ffd-876f-6ebf0d64e5fa",
   "metadata": {},
   "outputs": [],
   "source": [
    "soup = BeautifulSoup(driver.page_source,'html.parser')"
   ]
  },
  {
   "cell_type": "code",
   "execution_count": 48,
   "id": "96f48bd5-4401-4f62-9991-cd41cc8fc3f1",
   "metadata": {},
   "outputs": [],
   "source": [
    "with open('tmp.txt','wb') as f:\n",
    "    f.write(soup.prettify().encode())"
   ]
  },
  {
   "cell_type": "code",
   "execution_count": 54,
   "id": "7d6919af-98ff-4188-903e-a4664a3cbe23",
   "metadata": {},
   "outputs": [],
   "source": [
    "table = soup.find('table')"
   ]
  },
  {
   "cell_type": "code",
   "execution_count": 55,
   "id": "d822fdde-35be-487d-8b59-318b11a80108",
   "metadata": {},
   "outputs": [],
   "source": [
    "rows = table.find_all('tr')"
   ]
  },
  {
   "cell_type": "code",
   "execution_count": 69,
   "id": "6a692e2b-594c-4058-b8ac-6d07ace3879c",
   "metadata": {},
   "outputs": [],
   "source": [
    "points = [rows[1].find_all('td')[2].text]\n",
    "name = [rows[1].find_all('td')[3].a.text]\n",
    "team = [rows[1].find_all('td')[3].a.get('href')]"
   ]
  },
  {
   "cell_type": "code",
   "execution_count": 73,
   "id": "6792445c-e54c-429d-b114-3c86c58dcf3a",
   "metadata": {},
   "outputs": [],
   "source": [
    "points = []\n",
    "name = []\n",
    "team = []\n",
    "for i in range(4):\n",
    "    soup = BeautifulSoup(driver.page_source,'html.parser')\n",
    "    table = soup.find('table')\n",
    "    rows = table.find_all('tr')\n",
    "    for i in rows[1:]:\n",
    "        points.append(i.find_all('td')[2].text)\n",
    "        name.append(i.find_all('td')[3].a.text)\n",
    "        team.append(i.find_all('td')[3].a.get('href'))\n",
    "    click('next')\n",
    "    sleep(3)"
   ]
  },
  {
   "cell_type": "code",
   "execution_count": 75,
   "id": "e689fd36-4d7a-4122-8cf5-b9e209a7bfcd",
   "metadata": {},
   "outputs": [],
   "source": [
    "url = 'https://2025.ulis.se'"
   ]
  },
  {
   "cell_type": "code",
   "execution_count": 77,
   "id": "c033586b-c6e0-4809-a1e9-c2bc84f66022",
   "metadata": {},
   "outputs": [],
   "source": [
    "go_to(url+team[0])"
   ]
  },
  {
   "cell_type": "code",
   "execution_count": 78,
   "id": "1e9d1d96-1352-4b0e-a43c-77ef38a23c36",
   "metadata": {},
   "outputs": [],
   "source": [
    "soup = BeautifulSoup(driver.page_source,'html.parser')"
   ]
  },
  {
   "cell_type": "code",
   "execution_count": 79,
   "id": "463b18db-a029-4268-a0d4-a873109b0bdc",
   "metadata": {},
   "outputs": [],
   "source": [
    "table = soup.find('table')"
   ]
  },
  {
   "cell_type": "code",
   "execution_count": 80,
   "id": "d8f94340-413d-43ee-9f79-e26f8a32f811",
   "metadata": {},
   "outputs": [],
   "source": [
    "rows = table.find_all('tr')"
   ]
  },
  {
   "cell_type": "code",
   "execution_count": 110,
   "id": "f2befc06-89a8-43bb-8182-be6ea5f8c8d7",
   "metadata": {},
   "outputs": [],
   "source": [
    "def parse_team():\n",
    "    soup = BeautifulSoup(driver.page_source,'html.parser')\n",
    "    table =soup.find('table')\n",
    "    rows = table.find_all('tr')\n",
    "    challenge_name = []\n",
    "    challenge_category = []\n",
    "    challenge_points= []\n",
    "    solve_time= []\n",
    "    for i in rows[1:]:\n",
    "        t1 = i.find_all('td')\n",
    "        solve_time.append(t1[0].text)\n",
    "        challenge_name.append(k1:=t1[1].text)\n",
    "        challenge_points.append(t1[2].text)\n",
    "        challenge_category.append(l1[k1])\n",
    "    s = {'challenge_name': challenge_name,'challenge_category': challenge_category,'challenge_points': challenge_points,'solve_time': solve_time}\n",
    "    return s"
   ]
  },
  {
   "cell_type": "code",
   "execution_count": null,
   "id": "352ecb3d-d76d-4186-b91b-209aee36e706",
   "metadata": {
    "scrolled": true
   },
   "outputs": [],
   "source": [
    "challenges = []\n",
    "for cnt,i in enumerate(team):\n",
    "    if int(points[cnt]==0):\n",
    "        challenges.append({'challenge_name': [],'challenge_category': [],'challenge_points': [],'solve_time': []})\n",
    "        continue\n",
    "    go_to(url+i)\n",
    "    sleep(2)\n",
    "    challenges.append(parse_team())"
   ]
  },
  {
   "cell_type": "code",
   "execution_count": 124,
   "id": "53728c19-9175-4994-9a0d-c0d16d94766e",
   "metadata": {},
   "outputs": [],
   "source": [
    "df = pd.DataFrame()"
   ]
  },
  {
   "cell_type": "code",
   "execution_count": 125,
   "id": "7790c744-0644-4bbf-b963-c8c28125b45f",
   "metadata": {},
   "outputs": [],
   "source": [
    "df['name'] = name\n",
    "df['points'] = points"
   ]
  },
  {
   "cell_type": "code",
   "execution_count": 126,
   "id": "e1354444-d959-46f1-a752-2076d5a78f46",
   "metadata": {},
   "outputs": [],
   "source": [
    "df['challenges'] = challenges"
   ]
  },
  {
   "cell_type": "code",
   "execution_count": 128,
   "id": "d83ff730-699d-40ff-a128-b88554cef669",
   "metadata": {},
   "outputs": [],
   "source": [
    "df.to_csv('ulisse.csv',index = False)"
   ]
  },
  {
   "cell_type": "code",
   "execution_count": 120,
   "id": "a5451cd0-9489-48d2-a95e-f3898793c8db",
   "metadata": {},
   "outputs": [],
   "source": [
    "kill_browser()"
   ]
  }
 ],
 "metadata": {
  "kernelspec": {
   "display_name": "Python 3 (ipykernel)",
   "language": "python",
   "name": "python3"
  },
  "language_info": {
   "codemirror_mode": {
    "name": "ipython",
    "version": 3
   },
   "file_extension": ".py",
   "mimetype": "text/x-python",
   "name": "python",
   "nbconvert_exporter": "python",
   "pygments_lexer": "ipython3",
   "version": "3.11.7"
  }
 },
 "nbformat": 4,
 "nbformat_minor": 5
}
